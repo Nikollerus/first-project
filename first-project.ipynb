{
 "cells": [
  {
   "cell_type": "markdown",
   "metadata": {
    "toc": true
   },
   "source": [
    "<h1>Содержание<span class=\"tocSkip\"></span></h1>\n",
    "<div class=\"toc\"><ul class=\"toc-item\"><li><span><a href=\"#Подготовка-данных\" data-toc-modified-id=\"Подготовка-данных-1\"><span class=\"toc-item-num\">1&nbsp;&nbsp;</span>Подготовка данных</a></span></li><li><span><a href=\"#Исследование-задачи\" data-toc-modified-id=\"Исследование-задачи-2\"><span class=\"toc-item-num\">2&nbsp;&nbsp;</span>Исследование задачи</a></span></li><li><span><a href=\"#Борьба-с-дисбалансом\" data-toc-modified-id=\"Борьба-с-дисбалансом-3\"><span class=\"toc-item-num\">3&nbsp;&nbsp;</span>Борьба с дисбалансом</a></span></li><li><span><a href=\"#Тестирование-модели\" data-toc-modified-id=\"Тестирование-модели-4\"><span class=\"toc-item-num\">4&nbsp;&nbsp;</span>Тестирование модели</a></span></li><li><span><a href=\"#Чек-лист-готовности-проекта\" data-toc-modified-id=\"Чек-лист-готовности-проекта-5\"><span class=\"toc-item-num\">5&nbsp;&nbsp;</span>Чек-лист готовности проекта</a></span></li></ul></div>"
   ]
  },
  {
   "cell_type": "markdown",
   "metadata": {},
   "source": [
    "# Отток клиентов"
   ]
  },
  {
   "cell_type": "markdown",
   "metadata": {},
   "source": [
    "Из «Бета-Банка» стали уходить клиенты. Каждый месяц. Немного, но заметно. Банковские маркетологи посчитали: сохранять текущих клиентов дешевле, чем привлекать новых.\n",
    "\n",
    "Нужно спрогнозировать, уйдёт клиент из банка в ближайшее время или нет. Вам предоставлены исторические данные о поведении клиентов и расторжении договоров с банком. \n",
    "\n",
    "Постройте модель с предельно большим значением *F1*-меры. Чтобы сдать проект успешно, нужно довести метрику до 0.59. Проверьте *F1*-меру на тестовой выборке самостоятельно.\n",
    "\n",
    "Дополнительно измеряйте *AUC-ROC*, сравнивайте её значение с *F1*-мерой.\n",
    "\n",
    "Источник данных: [https://www.kaggle.com/barelydedicated/bank-customer-churn-modeling](https://www.kaggle.com/barelydedicated/bank-customer-churn-modeling)"
   ]
  },
  {
   "cell_type": "markdown",
   "metadata": {},
   "source": [
    "## Подготовка данных"
   ]
  },
  {
   "cell_type": "code",
   "execution_count": 1,
   "metadata": {},
   "outputs": [],
   "source": [
    "import pandas as pd\n",
    "import numpy as np\n",
    "import matplotlib.pyplot as plt\n",
    "import seaborn as sns\n",
    "import statsmodels.api as sm\n",
    "import scipy\n",
    "import math\n",
    "import time\n",
    "from sklearn.linear_model import LogisticRegression\n",
    "from sklearn.tree import DecisionTreeClassifier\n",
    "from sklearn.ensemble import RandomForestClassifier\n",
    "from sklearn.tree import DecisionTreeRegressor\n",
    "from sklearn.ensemble import RandomForestRegressor\n",
    "from sklearn.linear_model import LinearRegression\n",
    "from sklearn.model_selection import train_test_split\n",
    "from sklearn.metrics import plot_confusion_matrix\n",
    "from sklearn.metrics import f1_score\n",
    "from sklearn.metrics import mean_squared_error\n",
    "from sklearn.metrics import mean_absolute_error\n",
    "from sklearn.preprocessing import StandardScaler\n",
    "from sklearn.metrics import accuracy_score\n",
    "from sklearn.metrics import recall_score\n",
    "from sklearn.metrics import precision_score\n",
    "from sklearn.utils import shuffle\n",
    "from sklearn.metrics import precision_recall_curve\n",
    "from sklearn.metrics import roc_curve\n",
    "from sklearn.metrics import roc_auc_score\n",
    "from sklearn.metrics import r2_score"
   ]
  },
  {
   "cell_type": "code",
   "execution_count": 2,
   "metadata": {},
   "outputs": [],
   "source": [
    "pd.set_option('display.max_columns', 50)"
   ]
  },
  {
   "cell_type": "code",
   "execution_count": 3,
   "metadata": {},
   "outputs": [],
   "source": [
    "df = pd.read_csv('https://code.s3.yandex.net/datasets/Churn.csv')"
   ]
  },
  {
   "cell_type": "code",
   "execution_count": 4,
   "metadata": {},
   "outputs": [
    {
     "data": {
      "text/html": [
       "<div>\n",
       "<style scoped>\n",
       "    .dataframe tbody tr th:only-of-type {\n",
       "        vertical-align: middle;\n",
       "    }\n",
       "\n",
       "    .dataframe tbody tr th {\n",
       "        vertical-align: top;\n",
       "    }\n",
       "\n",
       "    .dataframe thead th {\n",
       "        text-align: right;\n",
       "    }\n",
       "</style>\n",
       "<table border=\"1\" class=\"dataframe\">\n",
       "  <thead>\n",
       "    <tr style=\"text-align: right;\">\n",
       "      <th></th>\n",
       "      <th>RowNumber</th>\n",
       "      <th>CustomerId</th>\n",
       "      <th>Surname</th>\n",
       "      <th>CreditScore</th>\n",
       "      <th>Geography</th>\n",
       "      <th>Gender</th>\n",
       "      <th>Age</th>\n",
       "      <th>Tenure</th>\n",
       "      <th>Balance</th>\n",
       "      <th>NumOfProducts</th>\n",
       "      <th>HasCrCard</th>\n",
       "      <th>IsActiveMember</th>\n",
       "      <th>EstimatedSalary</th>\n",
       "      <th>Exited</th>\n",
       "    </tr>\n",
       "  </thead>\n",
       "  <tbody>\n",
       "    <tr>\n",
       "      <th>0</th>\n",
       "      <td>1</td>\n",
       "      <td>15634602</td>\n",
       "      <td>Hargrave</td>\n",
       "      <td>619</td>\n",
       "      <td>France</td>\n",
       "      <td>Female</td>\n",
       "      <td>42</td>\n",
       "      <td>2.0</td>\n",
       "      <td>0.00</td>\n",
       "      <td>1</td>\n",
       "      <td>1</td>\n",
       "      <td>1</td>\n",
       "      <td>101348.88</td>\n",
       "      <td>1</td>\n",
       "    </tr>\n",
       "    <tr>\n",
       "      <th>1</th>\n",
       "      <td>2</td>\n",
       "      <td>15647311</td>\n",
       "      <td>Hill</td>\n",
       "      <td>608</td>\n",
       "      <td>Spain</td>\n",
       "      <td>Female</td>\n",
       "      <td>41</td>\n",
       "      <td>1.0</td>\n",
       "      <td>83807.86</td>\n",
       "      <td>1</td>\n",
       "      <td>0</td>\n",
       "      <td>1</td>\n",
       "      <td>112542.58</td>\n",
       "      <td>0</td>\n",
       "    </tr>\n",
       "    <tr>\n",
       "      <th>2</th>\n",
       "      <td>3</td>\n",
       "      <td>15619304</td>\n",
       "      <td>Onio</td>\n",
       "      <td>502</td>\n",
       "      <td>France</td>\n",
       "      <td>Female</td>\n",
       "      <td>42</td>\n",
       "      <td>8.0</td>\n",
       "      <td>159660.80</td>\n",
       "      <td>3</td>\n",
       "      <td>1</td>\n",
       "      <td>0</td>\n",
       "      <td>113931.57</td>\n",
       "      <td>1</td>\n",
       "    </tr>\n",
       "    <tr>\n",
       "      <th>3</th>\n",
       "      <td>4</td>\n",
       "      <td>15701354</td>\n",
       "      <td>Boni</td>\n",
       "      <td>699</td>\n",
       "      <td>France</td>\n",
       "      <td>Female</td>\n",
       "      <td>39</td>\n",
       "      <td>1.0</td>\n",
       "      <td>0.00</td>\n",
       "      <td>2</td>\n",
       "      <td>0</td>\n",
       "      <td>0</td>\n",
       "      <td>93826.63</td>\n",
       "      <td>0</td>\n",
       "    </tr>\n",
       "    <tr>\n",
       "      <th>4</th>\n",
       "      <td>5</td>\n",
       "      <td>15737888</td>\n",
       "      <td>Mitchell</td>\n",
       "      <td>850</td>\n",
       "      <td>Spain</td>\n",
       "      <td>Female</td>\n",
       "      <td>43</td>\n",
       "      <td>2.0</td>\n",
       "      <td>125510.82</td>\n",
       "      <td>1</td>\n",
       "      <td>1</td>\n",
       "      <td>1</td>\n",
       "      <td>79084.10</td>\n",
       "      <td>0</td>\n",
       "    </tr>\n",
       "    <tr>\n",
       "      <th>5</th>\n",
       "      <td>6</td>\n",
       "      <td>15574012</td>\n",
       "      <td>Chu</td>\n",
       "      <td>645</td>\n",
       "      <td>Spain</td>\n",
       "      <td>Male</td>\n",
       "      <td>44</td>\n",
       "      <td>8.0</td>\n",
       "      <td>113755.78</td>\n",
       "      <td>2</td>\n",
       "      <td>1</td>\n",
       "      <td>0</td>\n",
       "      <td>149756.71</td>\n",
       "      <td>1</td>\n",
       "    </tr>\n",
       "    <tr>\n",
       "      <th>6</th>\n",
       "      <td>7</td>\n",
       "      <td>15592531</td>\n",
       "      <td>Bartlett</td>\n",
       "      <td>822</td>\n",
       "      <td>France</td>\n",
       "      <td>Male</td>\n",
       "      <td>50</td>\n",
       "      <td>7.0</td>\n",
       "      <td>0.00</td>\n",
       "      <td>2</td>\n",
       "      <td>1</td>\n",
       "      <td>1</td>\n",
       "      <td>10062.80</td>\n",
       "      <td>0</td>\n",
       "    </tr>\n",
       "    <tr>\n",
       "      <th>7</th>\n",
       "      <td>8</td>\n",
       "      <td>15656148</td>\n",
       "      <td>Obinna</td>\n",
       "      <td>376</td>\n",
       "      <td>Germany</td>\n",
       "      <td>Female</td>\n",
       "      <td>29</td>\n",
       "      <td>4.0</td>\n",
       "      <td>115046.74</td>\n",
       "      <td>4</td>\n",
       "      <td>1</td>\n",
       "      <td>0</td>\n",
       "      <td>119346.88</td>\n",
       "      <td>1</td>\n",
       "    </tr>\n",
       "    <tr>\n",
       "      <th>8</th>\n",
       "      <td>9</td>\n",
       "      <td>15792365</td>\n",
       "      <td>He</td>\n",
       "      <td>501</td>\n",
       "      <td>France</td>\n",
       "      <td>Male</td>\n",
       "      <td>44</td>\n",
       "      <td>4.0</td>\n",
       "      <td>142051.07</td>\n",
       "      <td>2</td>\n",
       "      <td>0</td>\n",
       "      <td>1</td>\n",
       "      <td>74940.50</td>\n",
       "      <td>0</td>\n",
       "    </tr>\n",
       "    <tr>\n",
       "      <th>9</th>\n",
       "      <td>10</td>\n",
       "      <td>15592389</td>\n",
       "      <td>H?</td>\n",
       "      <td>684</td>\n",
       "      <td>France</td>\n",
       "      <td>Male</td>\n",
       "      <td>27</td>\n",
       "      <td>2.0</td>\n",
       "      <td>134603.88</td>\n",
       "      <td>1</td>\n",
       "      <td>1</td>\n",
       "      <td>1</td>\n",
       "      <td>71725.73</td>\n",
       "      <td>0</td>\n",
       "    </tr>\n",
       "  </tbody>\n",
       "</table>\n",
       "</div>"
      ],
      "text/plain": [
       "   RowNumber  CustomerId   Surname  CreditScore Geography  Gender  Age  \\\n",
       "0          1    15634602  Hargrave          619    France  Female   42   \n",
       "1          2    15647311      Hill          608     Spain  Female   41   \n",
       "2          3    15619304      Onio          502    France  Female   42   \n",
       "3          4    15701354      Boni          699    France  Female   39   \n",
       "4          5    15737888  Mitchell          850     Spain  Female   43   \n",
       "5          6    15574012       Chu          645     Spain    Male   44   \n",
       "6          7    15592531  Bartlett          822    France    Male   50   \n",
       "7          8    15656148    Obinna          376   Germany  Female   29   \n",
       "8          9    15792365        He          501    France    Male   44   \n",
       "9         10    15592389        H?          684    France    Male   27   \n",
       "\n",
       "   Tenure    Balance  NumOfProducts  HasCrCard  IsActiveMember  \\\n",
       "0     2.0       0.00              1          1               1   \n",
       "1     1.0   83807.86              1          0               1   \n",
       "2     8.0  159660.80              3          1               0   \n",
       "3     1.0       0.00              2          0               0   \n",
       "4     2.0  125510.82              1          1               1   \n",
       "5     8.0  113755.78              2          1               0   \n",
       "6     7.0       0.00              2          1               1   \n",
       "7     4.0  115046.74              4          1               0   \n",
       "8     4.0  142051.07              2          0               1   \n",
       "9     2.0  134603.88              1          1               1   \n",
       "\n",
       "   EstimatedSalary  Exited  \n",
       "0        101348.88       1  \n",
       "1        112542.58       0  \n",
       "2        113931.57       1  \n",
       "3         93826.63       0  \n",
       "4         79084.10       0  \n",
       "5        149756.71       1  \n",
       "6         10062.80       0  \n",
       "7        119346.88       1  \n",
       "8         74940.50       0  \n",
       "9         71725.73       0  "
      ]
     },
     "execution_count": 4,
     "metadata": {},
     "output_type": "execute_result"
    }
   ],
   "source": [
    "df.head(10)"
   ]
  },
  {
   "cell_type": "code",
   "execution_count": 5,
   "metadata": {},
   "outputs": [
    {
     "name": "stdout",
     "output_type": "stream",
     "text": [
      "<class 'pandas.core.frame.DataFrame'>\n",
      "RangeIndex: 10000 entries, 0 to 9999\n",
      "Data columns (total 14 columns):\n",
      " #   Column           Non-Null Count  Dtype  \n",
      "---  ------           --------------  -----  \n",
      " 0   RowNumber        10000 non-null  int64  \n",
      " 1   CustomerId       10000 non-null  int64  \n",
      " 2   Surname          10000 non-null  object \n",
      " 3   CreditScore      10000 non-null  int64  \n",
      " 4   Geography        10000 non-null  object \n",
      " 5   Gender           10000 non-null  object \n",
      " 6   Age              10000 non-null  int64  \n",
      " 7   Tenure           9091 non-null   float64\n",
      " 8   Balance          10000 non-null  float64\n",
      " 9   NumOfProducts    10000 non-null  int64  \n",
      " 10  HasCrCard        10000 non-null  int64  \n",
      " 11  IsActiveMember   10000 non-null  int64  \n",
      " 12  EstimatedSalary  10000 non-null  float64\n",
      " 13  Exited           10000 non-null  int64  \n",
      "dtypes: float64(3), int64(8), object(3)\n",
      "memory usage: 1.1+ MB\n"
     ]
    }
   ],
   "source": [
    "df.info()"
   ]
  },
  {
   "cell_type": "code",
   "execution_count": 6,
   "metadata": {
    "scrolled": true
   },
   "outputs": [
    {
     "data": {
      "text/html": [
       "<div>\n",
       "<style scoped>\n",
       "    .dataframe tbody tr th:only-of-type {\n",
       "        vertical-align: middle;\n",
       "    }\n",
       "\n",
       "    .dataframe tbody tr th {\n",
       "        vertical-align: top;\n",
       "    }\n",
       "\n",
       "    .dataframe thead th {\n",
       "        text-align: right;\n",
       "    }\n",
       "</style>\n",
       "<table border=\"1\" class=\"dataframe\">\n",
       "  <thead>\n",
       "    <tr style=\"text-align: right;\">\n",
       "      <th></th>\n",
       "      <th>RowNumber</th>\n",
       "      <th>CustomerId</th>\n",
       "      <th>CreditScore</th>\n",
       "      <th>Age</th>\n",
       "      <th>Tenure</th>\n",
       "      <th>Balance</th>\n",
       "      <th>NumOfProducts</th>\n",
       "      <th>HasCrCard</th>\n",
       "      <th>IsActiveMember</th>\n",
       "      <th>EstimatedSalary</th>\n",
       "      <th>Exited</th>\n",
       "    </tr>\n",
       "  </thead>\n",
       "  <tbody>\n",
       "    <tr>\n",
       "      <th>count</th>\n",
       "      <td>10000.00000</td>\n",
       "      <td>1.000000e+04</td>\n",
       "      <td>10000.000000</td>\n",
       "      <td>10000.000000</td>\n",
       "      <td>9091.000000</td>\n",
       "      <td>10000.000000</td>\n",
       "      <td>10000.000000</td>\n",
       "      <td>10000.00000</td>\n",
       "      <td>10000.000000</td>\n",
       "      <td>10000.000000</td>\n",
       "      <td>10000.000000</td>\n",
       "    </tr>\n",
       "    <tr>\n",
       "      <th>mean</th>\n",
       "      <td>5000.50000</td>\n",
       "      <td>1.569094e+07</td>\n",
       "      <td>650.528800</td>\n",
       "      <td>38.921800</td>\n",
       "      <td>4.997690</td>\n",
       "      <td>76485.889288</td>\n",
       "      <td>1.530200</td>\n",
       "      <td>0.70550</td>\n",
       "      <td>0.515100</td>\n",
       "      <td>100090.239881</td>\n",
       "      <td>0.203700</td>\n",
       "    </tr>\n",
       "    <tr>\n",
       "      <th>std</th>\n",
       "      <td>2886.89568</td>\n",
       "      <td>7.193619e+04</td>\n",
       "      <td>96.653299</td>\n",
       "      <td>10.487806</td>\n",
       "      <td>2.894723</td>\n",
       "      <td>62397.405202</td>\n",
       "      <td>0.581654</td>\n",
       "      <td>0.45584</td>\n",
       "      <td>0.499797</td>\n",
       "      <td>57510.492818</td>\n",
       "      <td>0.402769</td>\n",
       "    </tr>\n",
       "    <tr>\n",
       "      <th>min</th>\n",
       "      <td>1.00000</td>\n",
       "      <td>1.556570e+07</td>\n",
       "      <td>350.000000</td>\n",
       "      <td>18.000000</td>\n",
       "      <td>0.000000</td>\n",
       "      <td>0.000000</td>\n",
       "      <td>1.000000</td>\n",
       "      <td>0.00000</td>\n",
       "      <td>0.000000</td>\n",
       "      <td>11.580000</td>\n",
       "      <td>0.000000</td>\n",
       "    </tr>\n",
       "    <tr>\n",
       "      <th>25%</th>\n",
       "      <td>2500.75000</td>\n",
       "      <td>1.562853e+07</td>\n",
       "      <td>584.000000</td>\n",
       "      <td>32.000000</td>\n",
       "      <td>2.000000</td>\n",
       "      <td>0.000000</td>\n",
       "      <td>1.000000</td>\n",
       "      <td>0.00000</td>\n",
       "      <td>0.000000</td>\n",
       "      <td>51002.110000</td>\n",
       "      <td>0.000000</td>\n",
       "    </tr>\n",
       "    <tr>\n",
       "      <th>50%</th>\n",
       "      <td>5000.50000</td>\n",
       "      <td>1.569074e+07</td>\n",
       "      <td>652.000000</td>\n",
       "      <td>37.000000</td>\n",
       "      <td>5.000000</td>\n",
       "      <td>97198.540000</td>\n",
       "      <td>1.000000</td>\n",
       "      <td>1.00000</td>\n",
       "      <td>1.000000</td>\n",
       "      <td>100193.915000</td>\n",
       "      <td>0.000000</td>\n",
       "    </tr>\n",
       "    <tr>\n",
       "      <th>75%</th>\n",
       "      <td>7500.25000</td>\n",
       "      <td>1.575323e+07</td>\n",
       "      <td>718.000000</td>\n",
       "      <td>44.000000</td>\n",
       "      <td>7.000000</td>\n",
       "      <td>127644.240000</td>\n",
       "      <td>2.000000</td>\n",
       "      <td>1.00000</td>\n",
       "      <td>1.000000</td>\n",
       "      <td>149388.247500</td>\n",
       "      <td>0.000000</td>\n",
       "    </tr>\n",
       "    <tr>\n",
       "      <th>max</th>\n",
       "      <td>10000.00000</td>\n",
       "      <td>1.581569e+07</td>\n",
       "      <td>850.000000</td>\n",
       "      <td>92.000000</td>\n",
       "      <td>10.000000</td>\n",
       "      <td>250898.090000</td>\n",
       "      <td>4.000000</td>\n",
       "      <td>1.00000</td>\n",
       "      <td>1.000000</td>\n",
       "      <td>199992.480000</td>\n",
       "      <td>1.000000</td>\n",
       "    </tr>\n",
       "  </tbody>\n",
       "</table>\n",
       "</div>"
      ],
      "text/plain": [
       "         RowNumber    CustomerId   CreditScore           Age       Tenure  \\\n",
       "count  10000.00000  1.000000e+04  10000.000000  10000.000000  9091.000000   \n",
       "mean    5000.50000  1.569094e+07    650.528800     38.921800     4.997690   \n",
       "std     2886.89568  7.193619e+04     96.653299     10.487806     2.894723   \n",
       "min        1.00000  1.556570e+07    350.000000     18.000000     0.000000   \n",
       "25%     2500.75000  1.562853e+07    584.000000     32.000000     2.000000   \n",
       "50%     5000.50000  1.569074e+07    652.000000     37.000000     5.000000   \n",
       "75%     7500.25000  1.575323e+07    718.000000     44.000000     7.000000   \n",
       "max    10000.00000  1.581569e+07    850.000000     92.000000    10.000000   \n",
       "\n",
       "             Balance  NumOfProducts    HasCrCard  IsActiveMember  \\\n",
       "count   10000.000000   10000.000000  10000.00000    10000.000000   \n",
       "mean    76485.889288       1.530200      0.70550        0.515100   \n",
       "std     62397.405202       0.581654      0.45584        0.499797   \n",
       "min         0.000000       1.000000      0.00000        0.000000   \n",
       "25%         0.000000       1.000000      0.00000        0.000000   \n",
       "50%     97198.540000       1.000000      1.00000        1.000000   \n",
       "75%    127644.240000       2.000000      1.00000        1.000000   \n",
       "max    250898.090000       4.000000      1.00000        1.000000   \n",
       "\n",
       "       EstimatedSalary        Exited  \n",
       "count     10000.000000  10000.000000  \n",
       "mean     100090.239881      0.203700  \n",
       "std       57510.492818      0.402769  \n",
       "min          11.580000      0.000000  \n",
       "25%       51002.110000      0.000000  \n",
       "50%      100193.915000      0.000000  \n",
       "75%      149388.247500      0.000000  \n",
       "max      199992.480000      1.000000  "
      ]
     },
     "execution_count": 6,
     "metadata": {},
     "output_type": "execute_result"
    }
   ],
   "source": [
    "df.describe()"
   ]
  },
  {
   "cell_type": "markdown",
   "metadata": {},
   "source": [
    "Изучив общую информацию о датасете, можно сделать следующие выводы:\n",
    "\n",
    "Gender нужно перевести в дамми с помощью метода One-Hot Encoding.\n",
    "\n",
    "Некоторые признаки нужно масштабировать, чтобы избавиться от влияния выбросов."
   ]
  },
  {
   "cell_type": "code",
   "execution_count": 7,
   "metadata": {},
   "outputs": [
    {
     "data": {
      "text/plain": [
       "<AxesSubplot:>"
      ]
     },
     "execution_count": 7,
     "metadata": {},
     "output_type": "execute_result"
    },
    {
     "data": {
      "image/png": "[encoded data removed]",
      "text/plain": [
       "<Figure size 1500x500 with 2 Axes>"
      ]
     },
     "metadata": {},
     "output_type": "display_data"
    }
   ],
   "source": [
    "correlation = df.corr()\n",
    "plt.figure(figsize = (15,5))\n",
    "sns.heatmap(correlation, annot = True)"
   ]
  },
  {
   "cell_type": "markdown",
   "metadata": {},
   "source": [
    "Критично высоких связей между признаками не наблюдается, поэтому можно оставить модель с изначальным набором признаков."
   ]
  },
  {
   "cell_type": "code",
   "execution_count": 8,
   "metadata": {},
   "outputs": [
    {
     "data": {
      "image/png": "[encoded data removed]",
      "text/plain": [
       "<Figure size 1000x1200 with 12 Axes>"
      ]
     },
     "metadata": {},
     "output_type": "display_data"
    }
   ],
   "source": [
    "df.hist(figsize=(10, 12))\n",
    "None"
   ]
  },
  {
   "cell_type": "markdown",
   "metadata": {},
   "source": [
    "Визуальная оценка позволяет сделать вывод о том, что ни один из признаков не распределен нормально."
   ]
  },
  {
   "cell_type": "code",
   "execution_count": 9,
   "metadata": {},
   "outputs": [
    {
     "data": {
      "text/plain": [
       "RowNumber            0\n",
       "CustomerId           0\n",
       "Surname              0\n",
       "CreditScore          0\n",
       "Geography            0\n",
       "Gender               0\n",
       "Age                  0\n",
       "Tenure             909\n",
       "Balance              0\n",
       "NumOfProducts        0\n",
       "HasCrCard            0\n",
       "IsActiveMember       0\n",
       "EstimatedSalary      0\n",
       "Exited               0\n",
       "dtype: int64"
      ]
     },
     "execution_count": 9,
     "metadata": {},
     "output_type": "execute_result"
    }
   ],
   "source": [
    "df.isna().sum()"
   ]
  },
  {
   "cell_type": "markdown",
   "metadata": {},
   "source": [
    "В столбце Tenure наблюдается 909 прорусков.\n",
    "Будем считать, что если это пропуск, значит человек не является клиентом банка. Заполним пропуски нулями."
   ]
  },
  {
   "cell_type": "code",
   "execution_count": 10,
   "metadata": {},
   "outputs": [],
   "source": [
    "median_value = df['Tenure'].median()\n",
    "df['Tenure'] = df['Tenure'].fillna(median_value)"
   ]
  },
  {
   "cell_type": "code",
   "execution_count": 11,
   "metadata": {},
   "outputs": [
    {
     "data": {
      "text/plain": [
       "RowNumber          0\n",
       "CustomerId         0\n",
       "Surname            0\n",
       "CreditScore        0\n",
       "Geography          0\n",
       "Gender             0\n",
       "Age                0\n",
       "Tenure             0\n",
       "Balance            0\n",
       "NumOfProducts      0\n",
       "HasCrCard          0\n",
       "IsActiveMember     0\n",
       "EstimatedSalary    0\n",
       "Exited             0\n",
       "dtype: int64"
      ]
     },
     "execution_count": 11,
     "metadata": {},
     "output_type": "execute_result"
    }
   ],
   "source": [
    "df.isna().sum()"
   ]
  },
  {
   "cell_type": "markdown",
   "metadata": {},
   "source": [
    "Удаление пропусков прошло успешно."
   ]
  },
  {
   "cell_type": "markdown",
   "metadata": {},
   "source": [
    "На основании имеющихсф данных о клиентах нужно спрогнозировать, уйдёт клиент из банка в ближайшее время или нет.\n",
    "\n",
    "Соответственно:\n",
    "\n",
    "Exited - это целевой признак\n",
    "все остальные столбцы - это признаки, которые влияют на результат классификации\n",
    "Посмотрев на основную информацию о признаках, можно сказать, что One-Hot Encoding и масштабирование нужно применить точечно.\n",
    "\n",
    "Дополнительно проверим уникальные значения для категориальных признаков, чтобы убедиться в том, что OHE к ним применять имеет смысл."
   ]
  },
  {
   "cell_type": "code",
   "execution_count": 12,
   "metadata": {},
   "outputs": [
    {
     "data": {
      "text/plain": [
       "array(['Female', 'Male'], dtype=object)"
      ]
     },
     "execution_count": 12,
     "metadata": {},
     "output_type": "execute_result"
    }
   ],
   "source": [
    "df.Gender.unique()"
   ]
  },
  {
   "cell_type": "code",
   "execution_count": 13,
   "metadata": {},
   "outputs": [
    {
     "data": {
      "text/plain": [
       "array(['France', 'Spain', 'Germany'], dtype=object)"
      ]
     },
     "execution_count": 13,
     "metadata": {},
     "output_type": "execute_result"
    }
   ],
   "source": [
    "df.Geography.unique()"
   ]
  },
  {
   "cell_type": "markdown",
   "metadata": {},
   "source": [
    "OHE применим к столбцам Gender и Geography, масштабирование - к CreditScore, Balance и EstimatedSalary, так как мы не хотим, чтобы при обучении какой-то признак с более высоким значением был засчитан как более значимый."
   ]
  },
  {
   "cell_type": "code",
   "execution_count": 14,
   "metadata": {},
   "outputs": [],
   "source": [
    "df = pd.get_dummies(df, drop_first=True, columns=['Gender', 'Geography'])"
   ]
  },
  {
   "cell_type": "code",
   "execution_count": 15,
   "metadata": {},
   "outputs": [
    {
     "data": {
      "text/html": [
       "<div>\n",
       "<style scoped>\n",
       "    .dataframe tbody tr th:only-of-type {\n",
       "        vertical-align: middle;\n",
       "    }\n",
       "\n",
       "    .dataframe tbody tr th {\n",
       "        vertical-align: top;\n",
       "    }\n",
       "\n",
       "    .dataframe thead th {\n",
       "        text-align: right;\n",
       "    }\n",
       "</style>\n",
       "<table border=\"1\" class=\"dataframe\">\n",
       "  <thead>\n",
       "    <tr style=\"text-align: right;\">\n",
       "      <th></th>\n",
       "      <th>RowNumber</th>\n",
       "      <th>CustomerId</th>\n",
       "      <th>Surname</th>\n",
       "      <th>CreditScore</th>\n",
       "      <th>Age</th>\n",
       "      <th>Tenure</th>\n",
       "      <th>Balance</th>\n",
       "      <th>NumOfProducts</th>\n",
       "      <th>HasCrCard</th>\n",
       "      <th>IsActiveMember</th>\n",
       "      <th>EstimatedSalary</th>\n",
       "      <th>Exited</th>\n",
       "      <th>Gender_Male</th>\n",
       "      <th>Geography_Germany</th>\n",
       "      <th>Geography_Spain</th>\n",
       "    </tr>\n",
       "  </thead>\n",
       "  <tbody>\n",
       "    <tr>\n",
       "      <th>0</th>\n",
       "      <td>1</td>\n",
       "      <td>15634602</td>\n",
       "      <td>Hargrave</td>\n",
       "      <td>619</td>\n",
       "      <td>42</td>\n",
       "      <td>2.0</td>\n",
       "      <td>0.00</td>\n",
       "      <td>1</td>\n",
       "      <td>1</td>\n",
       "      <td>1</td>\n",
       "      <td>101348.88</td>\n",
       "      <td>1</td>\n",
       "      <td>0</td>\n",
       "      <td>0</td>\n",
       "      <td>0</td>\n",
       "    </tr>\n",
       "    <tr>\n",
       "      <th>1</th>\n",
       "      <td>2</td>\n",
       "      <td>15647311</td>\n",
       "      <td>Hill</td>\n",
       "      <td>608</td>\n",
       "      <td>41</td>\n",
       "      <td>1.0</td>\n",
       "      <td>83807.86</td>\n",
       "      <td>1</td>\n",
       "      <td>0</td>\n",
       "      <td>1</td>\n",
       "      <td>112542.58</td>\n",
       "      <td>0</td>\n",
       "      <td>0</td>\n",
       "      <td>0</td>\n",
       "      <td>1</td>\n",
       "    </tr>\n",
       "    <tr>\n",
       "      <th>2</th>\n",
       "      <td>3</td>\n",
       "      <td>15619304</td>\n",
       "      <td>Onio</td>\n",
       "      <td>502</td>\n",
       "      <td>42</td>\n",
       "      <td>8.0</td>\n",
       "      <td>159660.80</td>\n",
       "      <td>3</td>\n",
       "      <td>1</td>\n",
       "      <td>0</td>\n",
       "      <td>113931.57</td>\n",
       "      <td>1</td>\n",
       "      <td>0</td>\n",
       "      <td>0</td>\n",
       "      <td>0</td>\n",
       "    </tr>\n",
       "    <tr>\n",
       "      <th>3</th>\n",
       "      <td>4</td>\n",
       "      <td>15701354</td>\n",
       "      <td>Boni</td>\n",
       "      <td>699</td>\n",
       "      <td>39</td>\n",
       "      <td>1.0</td>\n",
       "      <td>0.00</td>\n",
       "      <td>2</td>\n",
       "      <td>0</td>\n",
       "      <td>0</td>\n",
       "      <td>93826.63</td>\n",
       "      <td>0</td>\n",
       "      <td>0</td>\n",
       "      <td>0</td>\n",
       "      <td>0</td>\n",
       "    </tr>\n",
       "    <tr>\n",
       "      <th>4</th>\n",
       "      <td>5</td>\n",
       "      <td>15737888</td>\n",
       "      <td>Mitchell</td>\n",
       "      <td>850</td>\n",
       "      <td>43</td>\n",
       "      <td>2.0</td>\n",
       "      <td>125510.82</td>\n",
       "      <td>1</td>\n",
       "      <td>1</td>\n",
       "      <td>1</td>\n",
       "      <td>79084.10</td>\n",
       "      <td>0</td>\n",
       "      <td>0</td>\n",
       "      <td>0</td>\n",
       "      <td>1</td>\n",
       "    </tr>\n",
       "  </tbody>\n",
       "</table>\n",
       "</div>"
      ],
      "text/plain": [
       "   RowNumber  CustomerId   Surname  CreditScore  Age  Tenure    Balance  \\\n",
       "0          1    15634602  Hargrave          619   42     2.0       0.00   \n",
       "1          2    15647311      Hill          608   41     1.0   83807.86   \n",
       "2          3    15619304      Onio          502   42     8.0  159660.80   \n",
       "3          4    15701354      Boni          699   39     1.0       0.00   \n",
       "4          5    15737888  Mitchell          850   43     2.0  125510.82   \n",
       "\n",
       "   NumOfProducts  HasCrCard  IsActiveMember  EstimatedSalary  Exited  \\\n",
       "0              1          1               1        101348.88       1   \n",
       "1              1          0               1        112542.58       0   \n",
       "2              3          1               0        113931.57       1   \n",
       "3              2          0               0         93826.63       0   \n",
       "4              1          1               1         79084.10       0   \n",
       "\n",
       "   Gender_Male  Geography_Germany  Geography_Spain  \n",
       "0            0                  0                0  \n",
       "1            0                  0                1  \n",
       "2            0                  0                0  \n",
       "3            0                  0                0  \n",
       "4            0                  0                1  "
      ]
     },
     "execution_count": 15,
     "metadata": {},
     "output_type": "execute_result"
    }
   ],
   "source": [
    "df.head()"
   ]
  },
  {
   "cell_type": "markdown",
   "metadata": {},
   "source": [
    "Дальше разделим датасет на 3 выборки - обучающую, валидационную и тестовую.\n",
    "Кроме того, удалим признаки Surmane и CustomerId, так как они никак не влияют на качество обучения (а если и влияют, то только в негативном ключе)."
   ]
  },
  {
   "cell_type": "code",
   "execution_count": 16,
   "metadata": {},
   "outputs": [],
   "source": [
    "target = df['Exited']\n",
    "features = df.drop(['Exited', 'Surname', 'CustomerId', 'RowNumber'], axis=1)\n",
    "\n",
    "\n",
    "features_train, features_test, target_train, target_test = train_test_split(features, \n",
    "                                                                            target, \n",
    "                                                                            test_size=0.2, \n",
    "                                                                            random_state=12345)\n",
    "\n",
    "\n",
    "features_train, features_valid, target_train, target_valid = train_test_split(features_train, \n",
    "                                                                              target_train, \n",
    "                                                                              test_size=0.25, \n",
    "                                                                              random_state=12345)"
   ]
  },
  {
   "cell_type": "code",
   "execution_count": 17,
   "metadata": {},
   "outputs": [],
   "source": [
    "#cols_to_scale = ['CreditScore', 'Balance', 'EstimatedSalary']\n",
    "\n",
    "#scaler = StandardScaler()\n",
    "#scaler.fit(df[cols_to_scale])\n",
    "\n",
    "#df[cols_to_scale] = scaler.transform(df[cols_to_scale])"
   ]
  },
  {
   "cell_type": "code",
   "execution_count": 18,
   "metadata": {},
   "outputs": [
    {
     "name": "stderr",
     "output_type": "stream",
     "text": [
      "C:\\Users\\geras\\AppData\\Local\\Temp\\ipykernel_16044\\3899786808.py:12: SettingWithCopyWarning: \n",
      "A value is trying to be set on a copy of a slice from a DataFrame.\n",
      "Try using .loc[row_indexer,col_indexer] = value instead\n",
      "\n",
      "See the caveats in the documentation: https://pandas.pydata.org/pandas-docs/stable/user_guide/indexing.html#returning-a-view-versus-a-copy\n",
      "  features_test[cols_to_scale] = scaler.transform(features_test[cols_to_scale])\n",
      "C:\\Users\\geras\\anaconda3\\envs\\ds_practicum_env\\lib\\site-packages\\pandas\\core\\indexing.py:1738: SettingWithCopyWarning: \n",
      "A value is trying to be set on a copy of a slice from a DataFrame.\n",
      "Try using .loc[row_indexer,col_indexer] = value instead\n",
      "\n",
      "See the caveats in the documentation: https://pandas.pydata.org/pandas-docs/stable/user_guide/indexing.html#returning-a-view-versus-a-copy\n",
      "  self._setitem_single_column(loc, value[:, i].tolist(), pi)\n"
     ]
    }
   ],
   "source": [
    "cols_to_scale = ['CreditScore', 'Balance', 'EstimatedSalary', 'Age']\n",
    "scaler = StandardScaler()\n",
    "\n",
    "# Обучение скалера на обучающей выборке\n",
    "scaler.fit(features_train[cols_to_scale])\n",
    "\n",
    "# Применение скалера к обучающим данным\n",
    "features_train[cols_to_scale] = scaler.transform(features_train[cols_to_scale])\n",
    "\n",
    "features_valid[cols_to_scale] = scaler.transform(features_valid[cols_to_scale])\n",
    "\n",
    "features_test[cols_to_scale] = scaler.transform(features_test[cols_to_scale])"
   ]
  },
  {
   "cell_type": "code",
   "execution_count": 19,
   "metadata": {},
   "outputs": [
    {
     "data": {
      "text/html": [
       "<div>\n",
       "<style scoped>\n",
       "    .dataframe tbody tr th:only-of-type {\n",
       "        vertical-align: middle;\n",
       "    }\n",
       "\n",
       "    .dataframe tbody tr th {\n",
       "        vertical-align: top;\n",
       "    }\n",
       "\n",
       "    .dataframe thead th {\n",
       "        text-align: right;\n",
       "    }\n",
       "</style>\n",
       "<table border=\"1\" class=\"dataframe\">\n",
       "  <thead>\n",
       "    <tr style=\"text-align: right;\">\n",
       "      <th></th>\n",
       "      <th>RowNumber</th>\n",
       "      <th>CustomerId</th>\n",
       "      <th>Surname</th>\n",
       "      <th>CreditScore</th>\n",
       "      <th>Age</th>\n",
       "      <th>Tenure</th>\n",
       "      <th>Balance</th>\n",
       "      <th>NumOfProducts</th>\n",
       "      <th>HasCrCard</th>\n",
       "      <th>IsActiveMember</th>\n",
       "      <th>EstimatedSalary</th>\n",
       "      <th>Exited</th>\n",
       "      <th>Gender_Male</th>\n",
       "      <th>Geography_Germany</th>\n",
       "      <th>Geography_Spain</th>\n",
       "    </tr>\n",
       "  </thead>\n",
       "  <tbody>\n",
       "    <tr>\n",
       "      <th>0</th>\n",
       "      <td>1</td>\n",
       "      <td>15634602</td>\n",
       "      <td>Hargrave</td>\n",
       "      <td>619</td>\n",
       "      <td>42</td>\n",
       "      <td>2.0</td>\n",
       "      <td>0.00</td>\n",
       "      <td>1</td>\n",
       "      <td>1</td>\n",
       "      <td>1</td>\n",
       "      <td>101348.88</td>\n",
       "      <td>1</td>\n",
       "      <td>0</td>\n",
       "      <td>0</td>\n",
       "      <td>0</td>\n",
       "    </tr>\n",
       "    <tr>\n",
       "      <th>1</th>\n",
       "      <td>2</td>\n",
       "      <td>15647311</td>\n",
       "      <td>Hill</td>\n",
       "      <td>608</td>\n",
       "      <td>41</td>\n",
       "      <td>1.0</td>\n",
       "      <td>83807.86</td>\n",
       "      <td>1</td>\n",
       "      <td>0</td>\n",
       "      <td>1</td>\n",
       "      <td>112542.58</td>\n",
       "      <td>0</td>\n",
       "      <td>0</td>\n",
       "      <td>0</td>\n",
       "      <td>1</td>\n",
       "    </tr>\n",
       "    <tr>\n",
       "      <th>2</th>\n",
       "      <td>3</td>\n",
       "      <td>15619304</td>\n",
       "      <td>Onio</td>\n",
       "      <td>502</td>\n",
       "      <td>42</td>\n",
       "      <td>8.0</td>\n",
       "      <td>159660.80</td>\n",
       "      <td>3</td>\n",
       "      <td>1</td>\n",
       "      <td>0</td>\n",
       "      <td>113931.57</td>\n",
       "      <td>1</td>\n",
       "      <td>0</td>\n",
       "      <td>0</td>\n",
       "      <td>0</td>\n",
       "    </tr>\n",
       "    <tr>\n",
       "      <th>3</th>\n",
       "      <td>4</td>\n",
       "      <td>15701354</td>\n",
       "      <td>Boni</td>\n",
       "      <td>699</td>\n",
       "      <td>39</td>\n",
       "      <td>1.0</td>\n",
       "      <td>0.00</td>\n",
       "      <td>2</td>\n",
       "      <td>0</td>\n",
       "      <td>0</td>\n",
       "      <td>93826.63</td>\n",
       "      <td>0</td>\n",
       "      <td>0</td>\n",
       "      <td>0</td>\n",
       "      <td>0</td>\n",
       "    </tr>\n",
       "    <tr>\n",
       "      <th>4</th>\n",
       "      <td>5</td>\n",
       "      <td>15737888</td>\n",
       "      <td>Mitchell</td>\n",
       "      <td>850</td>\n",
       "      <td>43</td>\n",
       "      <td>2.0</td>\n",
       "      <td>125510.82</td>\n",
       "      <td>1</td>\n",
       "      <td>1</td>\n",
       "      <td>1</td>\n",
       "      <td>79084.10</td>\n",
       "      <td>0</td>\n",
       "      <td>0</td>\n",
       "      <td>0</td>\n",
       "      <td>1</td>\n",
       "    </tr>\n",
       "  </tbody>\n",
       "</table>\n",
       "</div>"
      ],
      "text/plain": [
       "   RowNumber  CustomerId   Surname  CreditScore  Age  Tenure    Balance  \\\n",
       "0          1    15634602  Hargrave          619   42     2.0       0.00   \n",
       "1          2    15647311      Hill          608   41     1.0   83807.86   \n",
       "2          3    15619304      Onio          502   42     8.0  159660.80   \n",
       "3          4    15701354      Boni          699   39     1.0       0.00   \n",
       "4          5    15737888  Mitchell          850   43     2.0  125510.82   \n",
       "\n",
       "   NumOfProducts  HasCrCard  IsActiveMember  EstimatedSalary  Exited  \\\n",
       "0              1          1               1        101348.88       1   \n",
       "1              1          0               1        112542.58       0   \n",
       "2              3          1               0        113931.57       1   \n",
       "3              2          0               0         93826.63       0   \n",
       "4              1          1               1         79084.10       0   \n",
       "\n",
       "   Gender_Male  Geography_Germany  Geography_Spain  \n",
       "0            0                  0                0  \n",
       "1            0                  0                1  \n",
       "2            0                  0                0  \n",
       "3            0                  0                0  \n",
       "4            0                  0                1  "
      ]
     },
     "execution_count": 19,
     "metadata": {},
     "output_type": "execute_result"
    }
   ],
   "source": [
    "df.head()"
   ]
  },
  {
   "cell_type": "markdown",
   "metadata": {},
   "source": [
    "## Исследование задачи"
   ]
  },
  {
   "cell_type": "markdown",
   "metadata": {},
   "source": [
    "Чтобы оценить адекватность модели, проверим, как часто в целевом признаке встречается класс «1» или «0»."
   ]
  },
  {
   "cell_type": "code",
   "execution_count": 20,
   "metadata": {},
   "outputs": [
    {
     "name": "stdout",
     "output_type": "stream",
     "text": [
      "0    0.7963\n",
      "1    0.2037\n",
      "Name: Exited, dtype: float64\n"
     ]
    },
    {
     "data": {
      "text/plain": [
       "<AxesSubplot:>"
      ]
     },
     "execution_count": 20,
     "metadata": {},
     "output_type": "execute_result"
    },
    {
     "data": {
      "image/png": "[encoded data removed]",
      "text/plain": [
       "<Figure size 640x480 with 1 Axes>"
      ]
     },
     "metadata": {},
     "output_type": "display_data"
    }
   ],
   "source": [
    "class_frequency = df['Exited'].value_counts(normalize=1)\n",
    "print(class_frequency)\n",
    "class_frequency.plot(kind='bar')"
   ]
  },
  {
   "cell_type": "markdown",
   "metadata": {},
   "source": [
    "Из полученных данных видно, что в целевом признаке наблюдается достаточно сильный дисбаланс классов - только 20% отражают факт ухода клиента.\n",
    "\n",
    "Кроме того, сравним качество предсказаний с константной моделью. За константу примем пример 0, так как это значение встречается почти в 80% случаев.\n",
    "\n"
   ]
  },
  {
   "cell_type": "code",
   "execution_count": 21,
   "metadata": {},
   "outputs": [
    {
     "name": "stdout",
     "output_type": "stream",
     "text": [
      "0.7963\n"
     ]
    }
   ],
   "source": [
    "target_pred_constant = pd.Series([0]*len(target))\n",
    "print(accuracy_score(target, target_pred_constant))"
   ]
  },
  {
   "cell_type": "markdown",
   "metadata": {},
   "source": [
    "Теперь обучим несколько моделей без учета дисбаланса, и посмотрим на ключевые метрики - Recall, Precision и F1-score.\n",
    "Перед этим подберем оптимальные гиперпараметры для моделей на основании метрики F1-score.\n"
   ]
  },
  {
   "cell_type": "markdown",
   "metadata": {},
   "source": [
    "# Решающее древо"
   ]
  },
  {
   "cell_type": "code",
   "execution_count": 22,
   "metadata": {},
   "outputs": [
    {
     "name": "stdout",
     "output_type": "stream",
     "text": [
      "Оптимальная глубина дерева = 7\n",
      "Качество модели -  0.5313432835820895\n",
      "Время выполнения кода =  0.0 сек.\n"
     ]
    }
   ],
   "source": [
    "best_model = None\n",
    "best_f1 = 0\n",
    "for depth in range(1, 10):\n",
    "    model_tree = DecisionTreeClassifier(random_state=12345,\n",
    "                                        max_depth=depth)\n",
    "    model_tree.fit(features_train, target_train)\n",
    "    predictions_valid_tree = model_tree.predict(features_valid)\n",
    "    f1_tree = f1_score(target_valid, predictions_valid_tree)\n",
    "    if f1_tree > best_f1:\n",
    "        best_model = model_tree\n",
    "        best_depth = depth\n",
    "        best_f1 = f1_tree\n",
    "\n",
    "print('Оптимальная глубина дерева =', best_depth) \n",
    "print('Качество модели - ', f1_tree)\n",
    "\n",
    "start_time = time.time()\n",
    "print('Время выполнения кода = ', (time.time() - start_time), 'сек.')"
   ]
  },
  {
   "cell_type": "code",
   "execution_count": 23,
   "metadata": {},
   "outputs": [],
   "source": [
    "model_tree = best_model\n",
    "#model_tree = DecisionTreeClassifier(random_state=12345,\n",
    "                                    #max_depth=7)\n",
    "model_tree.fit(features_train, target_train)\n",
    "predictions_valid_tree = model_tree.predict(features_valid)"
   ]
  },
  {
   "cell_type": "code",
   "execution_count": 24,
   "metadata": {},
   "outputs": [
    {
     "name": "stdout",
     "output_type": "stream",
     "text": [
      "Accuracy_tree: 0.859\n",
      "Recall_tree: 0.45268542199488493\n",
      "Precision_tree: 0.7224489795918367\n",
      "F1_tree: 0.5566037735849056\n",
      "ROC-AUC_tree: 0.7052115736450497\n"
     ]
    }
   ],
   "source": [
    "print(\"Accuracy_tree:\", accuracy_score(target_valid, predictions_valid_tree))\n",
    "print(\"Recall_tree:\", recall_score(target_valid, predictions_valid_tree))\n",
    "print(\"Precision_tree:\", precision_score(target_valid, predictions_valid_tree))\n",
    "print(\"F1_tree:\", f1_score(target_valid, predictions_valid_tree))\n",
    "roc_auc = roc_auc_score(target_valid, predictions_valid_tree)\n",
    "print(\"ROC-AUC_tree:\", roc_auc)"
   ]
  },
  {
   "cell_type": "markdown",
   "metadata": {},
   "source": [
    "# Случайный лес"
   ]
  },
  {
   "cell_type": "code",
   "execution_count": 25,
   "metadata": {},
   "outputs": [
    {
     "name": "stdout",
     "output_type": "stream",
     "text": [
      "Оптимальное количество оценок = None\n",
      "Оптимальная глубина дерева = 7\n",
      "Качество модели -  0.5391014975041597\n",
      "Время выполнения кода =  0.0 сек.\n"
     ]
    }
   ],
   "source": [
    "best_model = None\n",
    "best_est = None\n",
    "for est in range(10, 101, 10):\n",
    "    for depth in range(1, 10):\n",
    "        model_forest = RandomForestClassifier(random_state=12345,\n",
    "                                              n_estimators=est, \n",
    "                                              max_depth=depth)\n",
    "        model_forest.fit(features_train, target_train)\n",
    "        predictions_valid_forest = model_forest.predict(features_valid)\n",
    "        f1_forest = f1_score(target_valid, predictions_valid_forest)\n",
    "        if f1_forest > best_f1:\n",
    "            best_model = model_forest\n",
    "            best_est = est\n",
    "            best_depth = depth\n",
    "\n",
    "print('Оптимальное количество оценок =', best_est)\n",
    "print('Оптимальная глубина дерева =', best_depth)\n",
    "print('Качество модели - ', f1_forest)\n",
    "\n",
    "start_time = time.time()\n",
    "print('Время выполнения кода = ', (time.time() - start_time), 'сек.')"
   ]
  },
  {
   "cell_type": "code",
   "execution_count": 26,
   "metadata": {},
   "outputs": [
    {
     "name": "stdout",
     "output_type": "stream",
     "text": [
      "Accuracy_forest: 0.862\n",
      "Recall_forest: 0.4143222506393862\n",
      "Precision_forest: 0.7751196172248804\n",
      "F1_forest: 0.54\n"
     ]
    }
   ],
   "source": [
    "model_forest = RandomForestClassifier(random_state=12345, \n",
    "                                      n_estimators=60, \n",
    "                                      max_depth=9)\n",
    "model_forest.fit(features_train, target_train)\n",
    "predictions_valid_forest = model_forest.predict(features_valid)\n",
    "print(\"Accuracy_forest:\", accuracy_score(target_valid, predictions_valid_forest))\n",
    "print(\"Recall_forest:\", recall_score(target_valid, predictions_valid_forest))\n",
    "print(\"Precision_forest:\", precision_score(target_valid, predictions_valid_forest))\n",
    "print(\"F1_forest:\", f1_score(target_valid, predictions_valid_forest))"
   ]
  },
  {
   "cell_type": "markdown",
   "metadata": {},
   "source": [
    "# Логистическая регрессия"
   ]
  },
  {
   "cell_type": "code",
   "execution_count": 27,
   "metadata": {},
   "outputs": [
    {
     "name": "stdout",
     "output_type": "stream",
     "text": [
      "Время выполнения кода =  0.0 сек.\n"
     ]
    }
   ],
   "source": [
    "model_log = LogisticRegression(random_state=12345,\n",
    "                               solver='liblinear')\n",
    "\n",
    "model_log.fit(features_train, target_train)\n",
    "\n",
    "predictions_valid_log = model_log.predict(features_valid)\n",
    "\n",
    "start_time = time.time()\n",
    "print('Время выполнения кода = ', (time.time() - start_time), 'сек.')"
   ]
  },
  {
   "cell_type": "code",
   "execution_count": 28,
   "metadata": {},
   "outputs": [
    {
     "name": "stdout",
     "output_type": "stream",
     "text": [
      "Accuracy_log: 0.8145\n",
      "Recall_log: 0.20460358056265984\n",
      "Precision_log: 0.5714285714285714\n",
      "F1_log: 0.30131826741996237\n"
     ]
    }
   ],
   "source": [
    "print(\"Accuracy_log:\", accuracy_score(target_valid, predictions_valid_log))\n",
    "print(\"Recall_log:\", recall_score(target_valid, predictions_valid_log))\n",
    "print(\"Precision_log:\", precision_score(target_valid, predictions_valid_log))\n",
    "print(\"F1_log:\", f1_score(target_valid, predictions_valid_log))"
   ]
  },
  {
   "cell_type": "markdown",
   "metadata": {},
   "source": [
    "Оценим модели по качеству - F1-score.\n",
    "\n",
    "\n",
    "Дерево решений\n",
    "\n",
    "Качество модели = 0.54\n",
    "\n",
    "\n",
    "Случайный лес\n",
    "\n",
    "Качество модели = 0.55\n",
    "\n",
    "\n",
    "Логистическая регрессия\n",
    "\n",
    "Качество модели = 0.1\n",
    "\n",
    "\n",
    "Таким образом, обучив модели без учета дисбаланса классов, наилучшее значение метрики F1-score демонстрирует модель Дерево решений, в то время как наибольшее значение метрики accuracy наблюдается у модели Random Forest.\n",
    "\n",
    "Далее, посмотрим на то, как выглядит дисбаланс классов для 3 обученных моделей."
   ]
  },
  {
   "cell_type": "markdown",
   "metadata": {},
   "source": [
    "## Борьба с дисбалансом"
   ]
  },
  {
   "cell_type": "code",
   "execution_count": 29,
   "metadata": {},
   "outputs": [
    {
     "data": {
      "image/png": "[encoded data removed]",
      "text/plain": [
       "<Figure size 640x480 with 2 Axes>"
      ]
     },
     "metadata": {},
     "output_type": "display_data"
    }
   ],
   "source": [
    "plot_confusion_matrix(estimator=model_tree, X=features_valid, y_true=target_valid,\n",
    "                      normalize='true', cmap='Blues')\n",
    "None"
   ]
  },
  {
   "cell_type": "code",
   "execution_count": 30,
   "metadata": {},
   "outputs": [
    {
     "data": {
      "image/png": "[encoded data removed]",
      "text/plain": [
       "<Figure size 640x480 with 2 Axes>"
      ]
     },
     "metadata": {},
     "output_type": "display_data"
    }
   ],
   "source": [
    "plot_confusion_matrix(estimator=model_forest, X=features_valid, y_true=target_valid,\n",
    "                      normalize='true', cmap='Blues')\n",
    "None"
   ]
  },
  {
   "cell_type": "code",
   "execution_count": 31,
   "metadata": {},
   "outputs": [
    {
     "data": {
      "image/png": "[encoded data removed]",
      "text/plain": [
       "<Figure size 640x480 with 2 Axes>"
      ]
     },
     "metadata": {},
     "output_type": "display_data"
    }
   ],
   "source": [
    "plot_confusion_matrix(estimator=model_log, X=features_valid, y_true=target_valid,\n",
    "                      normalize='true', cmap='Blues')\n",
    "None"
   ]
  },
  {
   "cell_type": "markdown",
   "metadata": {},
   "source": [
    "Матрицы ошибок наглядно демонстрируют то, что несмотря на то, что значение accuracy достаточно высокое, для всех трех моделей наблюдается достаточно сильный дисбаланс классов.\n",
    "К примеру, для моделей Дерево решений и Случайный лес ситуация схожая - факт того, что клиент не ушел (0), модели определяют правильно примерно в 95% случаев, в то время как результат предсказаний по факту ухода (1) в среднем всего 45%."
   ]
  },
  {
   "cell_type": "markdown",
   "metadata": {},
   "source": [
    "Рассмотрим 3 метода борьбы с дисбалансом классов:\n",
    "\n",
    "1. Взвешивание классов\n",
    "2. Увеличение выборки (upsampling)\n",
    "3. Уменьшение выборки (downsampling)"
   ]
  },
  {
   "cell_type": "markdown",
   "metadata": {},
   "source": [
    "# 1. Взвешивание классов"
   ]
  },
  {
   "cell_type": "markdown",
   "metadata": {},
   "source": [
    "# Решающее древо"
   ]
  },
  {
   "cell_type": "code",
   "execution_count": 32,
   "metadata": {},
   "outputs": [
    {
     "name": "stdout",
     "output_type": "stream",
     "text": [
      "Оптимальная глубина дерева = 6\n",
      "Качество модели -  0.5077821011673153\n"
     ]
    }
   ],
   "source": [
    "est_model = None\n",
    "best_f1 = 0\n",
    "for depth in range(1, 10):\n",
    "    model_tree = DecisionTreeClassifier(random_state=12345,\n",
    "                                        max_depth=depth,\n",
    "                                        class_weight='balanced')\n",
    "    model_tree.fit(features_train, target_train)\n",
    "    predictions_valid_tree = model_tree.predict(features_valid)\n",
    "    f1_tree = f1_score(target_valid, predictions_valid_tree)\n",
    "    if f1_tree > best_f1:\n",
    "        best_model = model_tree\n",
    "        best_depth = depth\n",
    "        best_f1 = f1_tree\n",
    "\n",
    "print('Оптимальная глубина дерева =', best_depth) \n",
    "print('Качество модели - ', f1_tree)"
   ]
  },
  {
   "cell_type": "code",
   "execution_count": 33,
   "metadata": {},
   "outputs": [],
   "source": [
    "model_tree = DecisionTreeClassifier(random_state=12345,\n",
    "                                    max_depth=6,\n",
    "                                    class_weight='balanced')\n",
    "model_tree.fit(features_train, target_train)\n",
    "predictions_valid_tree = model_tree.predict(features_valid)"
   ]
  },
  {
   "cell_type": "code",
   "execution_count": 34,
   "metadata": {},
   "outputs": [
    {
     "name": "stdout",
     "output_type": "stream",
     "text": [
      "Recall_tree: 0.7033248081841432\n",
      "Precision_tree: 0.46140939597315433\n",
      "F1_tree: 0.5572441742654509\n",
      "ROC-AUC_tree: 0.8065254745127711\n"
     ]
    }
   ],
   "source": [
    "print(\"Recall_tree:\", recall_score(target_valid, predictions_valid_tree))\n",
    "print(\"Precision_tree:\", precision_score(target_valid, predictions_valid_tree))\n",
    "print(\"F1_tree:\", f1_score(target_valid, predictions_valid_tree))\n",
    "\n",
    "probabilities_valid = model_tree.predict_proba(features_valid)\n",
    "probabilities_one_valid = probabilities_valid[:, 1]\n",
    "print(\"ROC-AUC_tree:\", roc_auc_score(target_valid, probabilities_one_valid))"
   ]
  },
  {
   "cell_type": "markdown",
   "metadata": {},
   "source": [
    "# Случайный лес"
   ]
  },
  {
   "cell_type": "code",
   "execution_count": 35,
   "metadata": {},
   "outputs": [
    {
     "name": "stdout",
     "output_type": "stream",
     "text": [
      "Оптимальное количество оценок = 100\n",
      "Оптимальная глубина дерева = 9\n"
     ]
    }
   ],
   "source": [
    "best_model = None\n",
    "for est in range(10, 101, 10):\n",
    "    for depth in range(1, 10):\n",
    "        model_forest = RandomForestClassifier(random_state=12345,\n",
    "                                              n_estimators=est, \n",
    "                                              max_depth=depth,\n",
    "                                              class_weight='balanced')\n",
    "        model_forest.fit(features_train, target_train)\n",
    "        predictions_valid_forest = model_forest.predict(features_valid)\n",
    "        f1_forest = f1_score(target_valid, predictions_valid_forest)\n",
    "        if f1_forest > best_f1:\n",
    "            best_model = model_forest\n",
    "            best_est = est\n",
    "            best_depth = depth\n",
    "\n",
    "print('Оптимальное количество оценок =', best_est)\n",
    "print('Оптимальная глубина дерева =', best_depth)"
   ]
  },
  {
   "cell_type": "code",
   "execution_count": 36,
   "metadata": {},
   "outputs": [],
   "source": [
    "model_forest = RandomForestClassifier(random_state=12345, \n",
    "                                      n_estimators=100, \n",
    "                                      max_depth=9,\n",
    "                                      class_weight='balanced')\n",
    "model_forest.fit(features_train, target_train)\n",
    "predictions_valid_forest = model_forest.predict(features_valid)"
   ]
  },
  {
   "cell_type": "code",
   "execution_count": 37,
   "metadata": {},
   "outputs": [
    {
     "name": "stdout",
     "output_type": "stream",
     "text": [
      "Recall_forest: 0.6368286445012787\n",
      "Precision_forest: 0.5620767494356659\n",
      "F1_forest: 0.5971223021582733\n",
      "ROC-AUC_forest: 0.853824157273902\n"
     ]
    }
   ],
   "source": [
    "print(\"Recall_forest:\", recall_score(target_valid, predictions_valid_forest))\n",
    "print(\"Precision_forest:\", precision_score(target_valid, predictions_valid_forest))\n",
    "print(\"F1_forest:\", f1_score(target_valid, predictions_valid_forest))\n",
    "\n",
    "probabilities_valid = model_forest.predict_proba(features_valid)\n",
    "probabilities_one_valid = probabilities_valid[:, 1]\n",
    "print(\"ROC-AUC_forest:\", roc_auc_score(target_valid, probabilities_one_valid))"
   ]
  },
  {
   "cell_type": "markdown",
   "metadata": {},
   "source": [
    "# Логистическая регрессия"
   ]
  },
  {
   "cell_type": "code",
   "execution_count": 38,
   "metadata": {},
   "outputs": [],
   "source": [
    "model_log = LogisticRegression(random_state=12345,\n",
    "                               solver='liblinear',\n",
    "                               class_weight='balanced')\n",
    "\n",
    "model_log.fit(features_train, target_train)\n",
    "predictions_valid_log = model_log.predict(features_valid)"
   ]
  },
  {
   "cell_type": "code",
   "execution_count": 39,
   "metadata": {},
   "outputs": [
    {
     "name": "stdout",
     "output_type": "stream",
     "text": [
      "Recall_log: 0.680306905370844\n",
      "Precision_log: 0.36388508891928867\n",
      "F1_log: 0.4741532976827095\n",
      "ROC-AUC_log: 0.7725565433566622\n"
     ]
    }
   ],
   "source": [
    "print(\"Recall_log:\", recall_score(target_valid, predictions_valid_log))\n",
    "print(\"Precision_log:\", precision_score(target_valid, predictions_valid_log))\n",
    "print(\"F1_log:\", f1_score(target_valid, predictions_valid_log))\n",
    "\n",
    "probabilities_valid = model_log.predict_proba(features_valid)\n",
    "probabilities_one_valid = probabilities_valid[:, 1]\n",
    "print(\"ROC-AUC_log:\", roc_auc_score(target_valid, probabilities_one_valid))"
   ]
  },
  {
   "cell_type": "markdown",
   "metadata": {},
   "source": [
    "# 2. Уменьшение выборки                         "
   ]
  },
  {
   "cell_type": "code",
   "execution_count": 40,
   "metadata": {},
   "outputs": [
    {
     "name": "stdout",
     "output_type": "stream",
     "text": [
      "(2414, 11)\n",
      "(2414,)\n"
     ]
    }
   ],
   "source": [
    "def downsample(features, target, fraction):\n",
    "    features_zeros = features[target == 0]\n",
    "    features_ones = features[target == 1]\n",
    "    target_zeros = target[target == 0]\n",
    "    target_ones = target[target == 1]\n",
    "\n",
    "    # fractioning samples\n",
    "    features_downsampled = pd.concat([features_zeros.sample(frac=fraction, random_state=12345)] +\n",
    "                                     [features_ones])\n",
    "    target_downsampled = pd.concat([target_zeros.sample(frac=fraction, random_state=12345)] +\n",
    "                                   [target_ones])\n",
    "    \n",
    "    features_downsampled = shuffle(features_downsampled, random_state=12345)\n",
    "    target_downsampled = shuffle(target_downsampled, random_state=12345)\n",
    "\n",
    "    return features_downsampled, target_downsampled\n",
    "\n",
    "features_downsampled, target_downsampled = downsample(features_train, target_train, 0.25)\n",
    "\n",
    "print(features_downsampled.shape)\n",
    "print(target_downsampled.shape)"
   ]
  },
  {
   "cell_type": "markdown",
   "metadata": {},
   "source": [
    "# Древо решений"
   ]
  },
  {
   "cell_type": "code",
   "execution_count": 41,
   "metadata": {},
   "outputs": [
    {
     "name": "stdout",
     "output_type": "stream",
     "text": [
      "Оптимальная глубина дерева = 7\n",
      "Качество модели -  0.5037037037037038\n"
     ]
    }
   ],
   "source": [
    "best_model = None\n",
    "best_f1 = 0\n",
    "for depth in range(1, 10):\n",
    "    model_tree = DecisionTreeClassifier(random_state=12345,\n",
    "                                        max_depth=depth)\n",
    "    model_tree.fit(features_downsampled, target_downsampled)\n",
    "    predictions_valid_tree = model_tree.predict(features_valid)\n",
    "    f1_tree = f1_score(target_valid, predictions_valid_tree)\n",
    "    if f1_tree > best_f1:\n",
    "        best_model = model_tree\n",
    "        best_depth = depth\n",
    "        best_f1 = f1_tree\n",
    "\n",
    "print('Оптимальная глубина дерева =', best_depth) \n",
    "print('Качество модели - ', f1_tree)"
   ]
  },
  {
   "cell_type": "code",
   "execution_count": 42,
   "metadata": {},
   "outputs": [
    {
     "name": "stdout",
     "output_type": "stream",
     "text": [
      "Recall_tree: 0.7468030690537084\n",
      "Precision_tree: 0.43131462333825704\n",
      "F1_tree: 0.5468164794007492\n",
      "ROC-AUC_tree: 0.8142752007171934\n"
     ]
    }
   ],
   "source": [
    "model_tree = DecisionTreeClassifier(random_state=12345,\n",
    "                                    max_depth=7)\n",
    "model_tree.fit(features_downsampled, target_downsampled)\n",
    "predictions_valid_tree = model_tree.predict(features_valid)\n",
    "\n",
    "print(\"Recall_tree:\", recall_score(target_valid, predictions_valid_tree))\n",
    "print(\"Precision_tree:\", precision_score(target_valid, predictions_valid_tree))\n",
    "print(\"F1_tree:\", f1_score(target_valid, predictions_valid_tree))\n",
    "\n",
    "probabilities_valid = model_tree.predict_proba(features_valid)\n",
    "probabilities_one_valid = probabilities_valid[:, 1]\n",
    "print(\"ROC-AUC_tree:\", roc_auc_score(target_valid, probabilities_one_valid))"
   ]
  },
  {
   "cell_type": "markdown",
   "metadata": {},
   "source": [
    "# Случайный лес"
   ]
  },
  {
   "cell_type": "code",
   "execution_count": 43,
   "metadata": {},
   "outputs": [
    {
     "name": "stdout",
     "output_type": "stream",
     "text": [
      "Оптимальное количество оценок = 100\n",
      "Оптимальная глубина дерева = 9\n"
     ]
    }
   ],
   "source": [
    "best_model = None\n",
    "for est in range(10, 101, 10):\n",
    "    for depth in range(1, 10):\n",
    "        model_forest = RandomForestClassifier(random_state=12345,\n",
    "                                              n_estimators=est, \n",
    "                                              max_depth=depth)\n",
    "        model_forest.fit(features_downsampled, target_downsampled)\n",
    "        predictions_valid_forest = model_forest.predict(features_valid)\n",
    "        f1_forest = f1_score(target_valid, predictions_valid_forest)\n",
    "        if f1_forest > best_f1:\n",
    "            best_model = model_forest\n",
    "            best_est = est\n",
    "            best_depth = depth\n",
    "\n",
    "print('Оптимальное количество оценок =', best_est)\n",
    "print('Оптимальная глубина дерева =', best_depth)"
   ]
  },
  {
   "cell_type": "code",
   "execution_count": 44,
   "metadata": {},
   "outputs": [
    {
     "name": "stdout",
     "output_type": "stream",
     "text": [
      "Recall_forest: 0.7186700767263428\n",
      "Precision_forest: 0.4411302982731554\n",
      "F1_forest: 0.546692607003891\n",
      "ROC-AUC_forest: 0.8332557115585446\n"
     ]
    }
   ],
   "source": [
    "model_forest = RandomForestClassifier(random_state=12345, \n",
    "                                      n_estimators=10, \n",
    "                                      max_depth=9)\n",
    "model_forest.fit(features_downsampled, target_downsampled)\n",
    "predictions_valid_forest = model_forest.predict(features_valid)\n",
    "\n",
    "print(\"Recall_forest:\", recall_score(target_valid, predictions_valid_forest))\n",
    "print(\"Precision_forest:\", precision_score(target_valid, predictions_valid_forest))\n",
    "print(\"F1_forest:\", f1_score(target_valid, predictions_valid_forest))\n",
    "\n",
    "probabilities_valid = model_forest.predict_proba(features_valid)\n",
    "probabilities_one_valid = probabilities_valid[:, 1]\n",
    "print(\"ROC-AUC_forest:\", roc_auc_score(target_valid, probabilities_one_valid))"
   ]
  },
  {
   "cell_type": "markdown",
   "metadata": {},
   "source": [
    "# Логистическая регрессия"
   ]
  },
  {
   "cell_type": "code",
   "execution_count": 45,
   "metadata": {},
   "outputs": [
    {
     "name": "stdout",
     "output_type": "stream",
     "text": [
      "Recall_log: 0.690537084398977\n",
      "Precision_log: 0.3629032258064516\n",
      "F1_log: 0.4757709251101322\n",
      "ROC-AUC_log: 0.7736771580575376\n"
     ]
    }
   ],
   "source": [
    "model_log = LogisticRegression(random_state=12345,\n",
    "                               solver='liblinear')\n",
    "\n",
    "model_log.fit(features_downsampled, target_downsampled)\n",
    "predictions_valid_log = model_log.predict(features_valid)\n",
    "\n",
    "print(\"Recall_log:\", recall_score(target_valid, predictions_valid_log))\n",
    "print(\"Precision_log:\", precision_score(target_valid, predictions_valid_log))\n",
    "print(\"F1_log:\", f1_score(target_valid, predictions_valid_log))\n",
    "\n",
    "probabilities_valid = model_log.predict_proba(features_valid)\n",
    "probabilities_one_valid = probabilities_valid[:, 1]\n",
    "print(\"ROC-AUC_log:\", roc_auc_score(target_valid, probabilities_one_valid))"
   ]
  },
  {
   "cell_type": "markdown",
   "metadata": {},
   "source": [
    "Вывод: уменьшение выборки не помогло увеличить качество модели, попробуем использовать обратный метод."
   ]
  },
  {
   "cell_type": "markdown",
   "metadata": {},
   "source": [
    "# 3. Увеличение выборки"
   ]
  },
  {
   "cell_type": "code",
   "execution_count": 46,
   "metadata": {},
   "outputs": [
    {
     "name": "stdout",
     "output_type": "stream",
     "text": [
      "(9657, 11)\n",
      "(9657,)\n"
     ]
    }
   ],
   "source": [
    "def upsample(features, target, repeat):\n",
    "    features_zeros = features[target == 0]\n",
    "    features_ones = features[target == 1]\n",
    "    target_zeros = target[target == 0]\n",
    "    target_ones = target[target == 1]\n",
    "    \n",
    "    # сцепляем выборки\n",
    "    features_upsampled = pd.concat([features_zeros] + [features_ones] * repeat)\n",
    "    target_upsampled = pd.concat([target_zeros] + [target_ones] * repeat)\n",
    "    \n",
    "    # перемешиваем значения, чтобы они не шли друг за другом \n",
    "    features_upsampled = shuffle(features_upsampled, random_state=12345)\n",
    "    target_upsampled = shuffle(target_upsampled, random_state=12345)\n",
    "    return features_upsampled, target_upsampled\n",
    "\n",
    "features_upsampled, target_upsampled = upsample(features_train, target_train, 4)\n",
    "\n",
    "print(features_upsampled.shape)\n",
    "print(target_upsampled.shape)"
   ]
  },
  {
   "cell_type": "markdown",
   "metadata": {},
   "source": [
    "# Дерево решений"
   ]
  },
  {
   "cell_type": "code",
   "execution_count": 47,
   "metadata": {},
   "outputs": [
    {
     "name": "stdout",
     "output_type": "stream",
     "text": [
      "Оптимальная глубина дерева = 6\n",
      "Качество модели -  0.5107212475633529\n"
     ]
    }
   ],
   "source": [
    "best_model = None\n",
    "best_f1 = 0\n",
    "for depth in range(1, 10):\n",
    "    model_tree = DecisionTreeClassifier(random_state=12345,\n",
    "                                        max_depth=depth)\n",
    "    model_tree.fit(features_upsampled, target_upsampled)\n",
    "    predictions_valid_tree = model_tree.predict(features_valid)\n",
    "    f1_tree = f1_score(target_valid, predictions_valid_tree)\n",
    "    if f1_tree > best_f1:\n",
    "        best_model = model_tree\n",
    "        best_depth = depth\n",
    "        best_f1 = f1_tree\n",
    "\n",
    "print('Оптимальная глубина дерева =', best_depth) \n",
    "print('Качество модели - ', f1_tree)"
   ]
  },
  {
   "cell_type": "code",
   "execution_count": 48,
   "metadata": {},
   "outputs": [
    {
     "name": "stdout",
     "output_type": "stream",
     "text": [
      "Recall_tree: 0.7033248081841432\n",
      "Precision_tree: 0.45757071547420963\n",
      "F1_tree: 0.5544354838709676\n",
      "ROC-AUC_tree: 0.8077883516473037\n"
     ]
    }
   ],
   "source": [
    "model_tree = DecisionTreeClassifier(random_state=12345,\n",
    "                                    max_depth=7)\n",
    "model_tree.fit(features_upsampled, target_upsampled)\n",
    "predictions_valid_tree = model_tree.predict(features_valid)\n",
    "\n",
    "print(\"Recall_tree:\", recall_score(target_valid, predictions_valid_tree))\n",
    "print(\"Precision_tree:\", precision_score(target_valid, predictions_valid_tree))\n",
    "print(\"F1_tree:\", f1_score(target_valid, predictions_valid_tree))\n",
    "\n",
    "probabilities_valid = model_tree.predict_proba(features_valid)\n",
    "probabilities_one_valid = probabilities_valid[:, 1]\n",
    "print(\"ROC-AUC_tree:\", roc_auc_score(target_valid, probabilities_one_valid))"
   ]
  },
  {
   "cell_type": "markdown",
   "metadata": {},
   "source": [
    "# Случайный лес"
   ]
  },
  {
   "cell_type": "code",
   "execution_count": 49,
   "metadata": {},
   "outputs": [
    {
     "name": "stdout",
     "output_type": "stream",
     "text": [
      "Оптимальное количество оценок = 140\n",
      "Оптимальная глубина дерева = 14\n"
     ]
    }
   ],
   "source": [
    "best_model = None\n",
    "for est in range(10, 150, 10):\n",
    "    for depth in range(1, 15):\n",
    "        model_forest = RandomForestClassifier(random_state=12345,\n",
    "                                              n_estimators=est, \n",
    "                                              max_depth=depth)\n",
    "        model_forest.fit(features_upsampled, target_upsampled)\n",
    "        predictions_valid_forest = model_forest.predict(features_valid)\n",
    "        f1_forest = f1_score(target_valid, predictions_valid_forest)\n",
    "        if f1_forest > best_f1:\n",
    "            best_model = model_forest\n",
    "            best_est = est\n",
    "            best_depth = depth\n",
    "\n",
    "print('Оптимальное количество оценок =', best_est)\n",
    "print('Оптимальная глубина дерева =', best_depth)"
   ]
  },
  {
   "cell_type": "code",
   "execution_count": 50,
   "metadata": {},
   "outputs": [
    {
     "name": "stdout",
     "output_type": "stream",
     "text": [
      "Recall_forest: 0.6751918158567775\n",
      "Precision_forest: 0.4756756756756757\n",
      "F1_forest: 0.5581395348837209\n",
      "ROC-AUC_forest: 0.845290000778867\n"
     ]
    }
   ],
   "source": [
    "model_forest = RandomForestClassifier(random_state=12345, \n",
    "                                      n_estimators=10, \n",
    "                                      max_depth=9)\n",
    "model_forest.fit(features_upsampled, target_upsampled)\n",
    "predictions_valid_forest = model_forest.predict(features_valid)\n",
    "\n",
    "print(\"Recall_forest:\", recall_score(target_valid, predictions_valid_forest))\n",
    "print(\"Precision_forest:\", precision_score(target_valid, predictions_valid_forest))\n",
    "print(\"F1_forest:\", f1_score(target_valid, predictions_valid_forest))\n",
    "\n",
    "probabilities_valid = model_forest.predict_proba(features_valid)\n",
    "probabilities_one_valid = probabilities_valid[:, 1]\n",
    "print(\"ROC-AUC_forest:\", roc_auc_score(target_valid, probabilities_one_valid))"
   ]
  },
  {
   "cell_type": "markdown",
   "metadata": {},
   "source": [
    "# Логистическая регрессия"
   ]
  },
  {
   "cell_type": "code",
   "execution_count": 51,
   "metadata": {},
   "outputs": [
    {
     "name": "stdout",
     "output_type": "stream",
     "text": [
      "Recall_log: 0.6930946291560103\n",
      "Precision_log: 0.3632707774798928\n",
      "F1_log: 0.476693051890941\n",
      "ROC-AUC_log: 0.7725485957346702\n"
     ]
    }
   ],
   "source": [
    "model_log = LogisticRegression(random_state=12345,\n",
    "                               solver='liblinear')\n",
    "model_log.fit(features_upsampled, target_upsampled)\n",
    "predictions_valid_log = model_log.predict(features_valid)\n",
    "\n",
    "print(\"Recall_log:\", recall_score(target_valid, predictions_valid_log))\n",
    "print(\"Precision_log:\", precision_score(target_valid, predictions_valid_log))\n",
    "print(\"F1_log:\", f1_score(target_valid, predictions_valid_log))\n",
    "\n",
    "probabilities_valid = model_log.predict_proba(features_valid)\n",
    "probabilities_one_valid = probabilities_valid[:, 1]\n",
    "print(\"ROC-AUC_log:\", roc_auc_score(target_valid, probabilities_one_valid))"
   ]
  },
  {
   "cell_type": "code",
   "execution_count": 52,
   "metadata": {},
   "outputs": [
    {
     "data": {
      "text/html": [
       "<div>\n",
       "<style scoped>\n",
       "    .dataframe tbody tr th:only-of-type {\n",
       "        vertical-align: middle;\n",
       "    }\n",
       "\n",
       "    .dataframe tbody tr th {\n",
       "        vertical-align: top;\n",
       "    }\n",
       "\n",
       "    .dataframe thead th {\n",
       "        text-align: right;\n",
       "    }\n",
       "</style>\n",
       "<table border=\"1\" class=\"dataframe\">\n",
       "  <thead>\n",
       "    <tr style=\"text-align: right;\">\n",
       "      <th></th>\n",
       "      <th>Model Name</th>\n",
       "      <th>Initial</th>\n",
       "      <th>Weighing</th>\n",
       "      <th>Downsampling</th>\n",
       "      <th>Upsampling</th>\n",
       "    </tr>\n",
       "  </thead>\n",
       "  <tbody>\n",
       "    <tr>\n",
       "      <th>0</th>\n",
       "      <td>Tree</td>\n",
       "      <td>0.55</td>\n",
       "      <td>0.56</td>\n",
       "      <td>0.55</td>\n",
       "      <td>0.55</td>\n",
       "    </tr>\n",
       "    <tr>\n",
       "      <th>1</th>\n",
       "      <td>Forest</td>\n",
       "      <td>0.55</td>\n",
       "      <td>0.58</td>\n",
       "      <td>0.56</td>\n",
       "      <td>0.57</td>\n",
       "    </tr>\n",
       "    <tr>\n",
       "      <th>2</th>\n",
       "      <td>Log</td>\n",
       "      <td>0.10</td>\n",
       "      <td>0.47</td>\n",
       "      <td>0.44</td>\n",
       "      <td>0.43</td>\n",
       "    </tr>\n",
       "  </tbody>\n",
       "</table>\n",
       "</div>"
      ],
      "text/plain": [
       "  Model Name  Initial  Weighing  Downsampling  Upsampling\n",
       "0       Tree     0.55      0.56          0.55        0.55\n",
       "1     Forest     0.55      0.58          0.56        0.57\n",
       "2        Log     0.10      0.47          0.44        0.43"
      ]
     },
     "execution_count": 52,
     "metadata": {},
     "output_type": "execute_result"
    }
   ],
   "source": [
    "model_name = ['Tree', 'Forest', 'Log']\n",
    "initial_values = [0.55, 0.55, 0.10]\n",
    "weighting_values = [0.56, 0.58, 0.47]\n",
    "down_values = [0.55, 0.56, 0.44]\n",
    "up_values = [0.55, 0.57, 0.43]\n",
    "\n",
    "df_metrics = pd.DataFrame({'Model Name': model_name,\n",
    "                           'Initial': initial_values,\n",
    "                           'Weighing': weighting_values,\n",
    "                           'Downsampling': down_values,\n",
    "                           'Upsampling': up_values })\n",
    "\n",
    "df_metrics"
   ]
  },
  {
   "cell_type": "markdown",
   "metadata": {},
   "source": [
    "Вывод:\n",
    "\n",
    "Уменьшение и увеличение выборки позволяют достичь примерно одинаковое значение F1-score.\n",
    "Наибольшее значение метрики F1-score получено на модели Случайный лес при помощи взвешивания классов. Поэтому для тестирования будем использовать эту модель.\n",
    "Значение метрики AUC-ROC всегда стабильно выше F1-score и колеблется в районе 80%."
   ]
  },
  {
   "cell_type": "markdown",
   "metadata": {},
   "source": [
    "## Тестирование модели"
   ]
  },
  {
   "cell_type": "markdown",
   "metadata": {},
   "source": [
    "Перед тестированием объединим валидационную и тестовую выборки, чтобы качество было выше.\n",
    "Так как модель случайного леса показала наилучшее значение метрики F1-score, тестирование будем проводить на ней."
   ]
  },
  {
   "cell_type": "code",
   "execution_count": 53,
   "metadata": {},
   "outputs": [],
   "source": [
    "#new_features_test = pd.concat([features_test, features_valid], axis=0, ignore_index=True)\n",
    "#new_target_test = pd.concat([target_test, target_valid], axis=0, ignore_index=True)"
   ]
  },
  {
   "cell_type": "code",
   "execution_count": 54,
   "metadata": {},
   "outputs": [],
   "source": [
    "new_features_train = pd.concat([features_train, features_valid], axis=0, ignore_index=True)\n",
    "new_target_train = pd.concat([target_train, target_valid], axis=0, ignore_index=True)"
   ]
  },
  {
   "cell_type": "code",
   "execution_count": 55,
   "metadata": {},
   "outputs": [
    {
     "data": {
      "text/plain": [
       "(6000,)"
      ]
     },
     "execution_count": 55,
     "metadata": {},
     "output_type": "execute_result"
    }
   ],
   "source": [
    "target_train.shape"
   ]
  },
  {
   "cell_type": "code",
   "execution_count": 56,
   "metadata": {},
   "outputs": [
    {
     "data": {
      "text/plain": [
       "0.6"
      ]
     },
     "execution_count": 56,
     "metadata": {},
     "output_type": "execute_result"
    }
   ],
   "source": [
    "round(len(target_train) / len(df), 3)"
   ]
  },
  {
   "cell_type": "code",
   "execution_count": 57,
   "metadata": {},
   "outputs": [
    {
     "data": {
      "text/plain": [
       "(8000,)"
      ]
     },
     "execution_count": 57,
     "metadata": {},
     "output_type": "execute_result"
    }
   ],
   "source": [
    "new_target_train.shape"
   ]
  },
  {
   "cell_type": "code",
   "execution_count": 58,
   "metadata": {},
   "outputs": [
    {
     "data": {
      "text/plain": [
       "0.8"
      ]
     },
     "execution_count": 58,
     "metadata": {},
     "output_type": "execute_result"
    }
   ],
   "source": [
    "round(len(new_target_train) / len(df), 3)"
   ]
  },
  {
   "cell_type": "markdown",
   "metadata": {},
   "source": [
    "После объединения валидационной и тестовой выборки соотношение тренировочной выборки к тестовой стало 60/40.\n",
    "Кажется, все объединилось корректно."
   ]
  },
  {
   "cell_type": "code",
   "execution_count": 59,
   "metadata": {},
   "outputs": [
    {
     "name": "stdout",
     "output_type": "stream",
     "text": [
      "Оптимальное количество оценок = 100\n",
      "Оптимальная глубина дерева = 9\n"
     ]
    }
   ],
   "source": [
    "best_model = None\n",
    "for est in range(10, 101, 10):\n",
    "    for depth in range(1, 10):\n",
    "        model_forest = RandomForestClassifier(random_state=12345,\n",
    "                                              n_estimators=est, \n",
    "                                              max_depth=depth,\n",
    "                                              class_weight='balanced')\n",
    "        model_forest.fit(features_train, target_train)\n",
    "        predictions_valid_forest = model_forest.predict(features_valid)\n",
    "        f1_forest = f1_score(target_valid, predictions_valid_forest)\n",
    "        if f1_forest > best_f1:\n",
    "            best_model = model_forest\n",
    "            best_est = est\n",
    "            best_depth = depth\n",
    "\n",
    "print('Оптимальное количество оценок =', best_est)\n",
    "print('Оптимальная глубина дерева =', best_depth)"
   ]
  },
  {
   "cell_type": "code",
   "execution_count": 60,
   "metadata": {},
   "outputs": [
    {
     "name": "stdout",
     "output_type": "stream",
     "text": [
      "Recall_forest: 0.6791569086651054\n",
      "Precision_forest: 0.5942622950819673\n",
      "F1_tree: 0.6338797814207651\n",
      "ROC-AUC_forest: 0.867734352086066\n"
     ]
    }
   ],
   "source": [
    "model_forest = RandomForestClassifier(random_state=12345, \n",
    "                                      n_estimators=100, \n",
    "                                      max_depth=9,\n",
    "                                      class_weight='balanced')\n",
    "model_forest.fit(new_features_train, new_target_train)\n",
    "\n",
    "\n",
    "predictions_test_forest = model_forest.predict(features_test)\n",
    "\n",
    "print(\"Recall_forest:\", recall_score(target_test, predictions_test_forest))\n",
    "print(\"Precision_forest:\", precision_score(target_test, predictions_test_forest))\n",
    "print(\"F1_tree:\", f1_score(target_test, predictions_test_forest))\n",
    "\n",
    "probabilities_test = model_forest.predict_proba(features_test)\n",
    "probabilities_one_test = probabilities_test[:, 1]\n",
    "print(\"ROC-AUC_forest:\", roc_auc_score(target_test, probabilities_one_test))"
   ]
  },
  {
   "cell_type": "code",
   "execution_count": 64,
   "metadata": {},
   "outputs": [
    {
     "name": "stdout",
     "output_type": "stream",
     "text": [
      "Recall_forest: 0.5339578454332553\n",
      "Precision_forest: 0.6972477064220184\n",
      "F1_tree: 0.6047745358090186\n",
      "ROC-AUC_forest: 0.85684434790247\n"
     ]
    }
   ],
   "source": [
    "model_forest = RandomForestClassifier(random_state=12345, \n",
    "                                      n_estimators=100, \n",
    "                                      max_depth=13,\n",
    "                                      class_weight='balanced')\n",
    "model_forest.fit(new_features_train, new_target_train)\n",
    "\n",
    "\n",
    "predictions_test_forest = model_forest.predict(features_test)\n",
    "\n",
    "print(\"Recall_forest:\", recall_score(target_test, predictions_test_forest))\n",
    "print(\"Precision_forest:\", precision_score(target_test, predictions_test_forest))\n",
    "print(\"F1_tree:\", f1_score(target_test, predictions_test_forest))\n",
    "\n",
    "probabilities_test = model_forest.predict_proba(features_test)\n",
    "probabilities_one_test = probabilities_test[:, 1]\n",
    "print(\"ROC-AUC_forest:\", roc_auc_score(target_test, probabilities_one_test))"
   ]
  },
  {
   "cell_type": "markdown",
   "metadata": {},
   "source": [
    "# Финальный вывод"
   ]
  },
  {
   "cell_type": "markdown",
   "metadata": {},
   "source": [
    "Перед тем, как разделять выборку на обучающую, валидационную и тестовую, была проведена предварительная подготовка датасета:\n",
    "\n",
    "заполнены пропуски в данных\n",
    "удалены 2 категориальных столбца CustomerId и Surname + RowNumber, так как они никак не влияют на качество обучения (а если и влияют, то только в негативном ключе)\n",
    "дополнительно проведена проверка на наличие сильной мультиколлинеарность (подтвердилось ее отстутствие)\n",
    "2 категориальных признака (Gender, Geography) были преобразованы в бинарные при помощи техники One-Hot Ecnoding\n",
    "к 3 количественным признакам (CreditScore, Balance и EstimatedSalary) было применено масштабирование, чтобы при обучении не получилось так, что какой-то признак с более высоким значением был засчитан как более значимый.\n",
    "\n",
    "C помощью матриц ошибок можно явно увидеть, что несмотря на достаточно высокое значение accuracy, для всех трех моделей наблюдается остаточно сильный дисбаланс классов. К примеру, для моделей Дерево решений и Случайный лес ситуация схожая - факт того, что клиент не ушел (0), модели определяют правильно примерно в 95% случаев, в то время как результат предсказаний по факту ухода (1) в среднем всего 45%.\n",
    "\n",
    "В рамках борьбы с дисбалансом классов было рассмотрено 3 метода:\n",
    "\n",
    "Взвешивание классов\n",
    "Увеличение выборки (upsampling)\n",
    "Уменьшение выборки (downsampling)\n",
    "\n",
    "В результате борьбы с дисбанансом классов были получены следующие выводы:\n",
    "\n",
    "Уменьшение и увеличение выборки позволяют достичь примерно одинаковое значение F1-score.\n",
    "Наибольшее значение метрики F1-score получено на модели Случайный лес при помощи взвешивания классов. Поэтому для финального тестирования была использована именно она.\n",
    "Значение метрики AUC-ROC всегда стабильно выше F1-score и колеблется в районе 80%.\n",
    "Далее, наилучшая модель была протестирована на тестовой выборке.\n",
    "Значения ключевых метрик получились следующие:\n",
    "\n",
    "F1-score = 0.63 (выше необходимого значения)\n",
    "AUC-ROC = 0.86 (достаточно близко к единице)"
   ]
  },
  {
   "cell_type": "markdown",
   "metadata": {},
   "source": [
    "https://github.com/Nikollerus/first-project"
   ]
  },
  {
   "cell_type": "markdown",
   "metadata": {},
   "source": [
    "## Чек-лист готовности проекта"
   ]
  },
  {
   "cell_type": "markdown",
   "metadata": {},
   "source": [
    "Поставьте 'x' в выполненных пунктах. Далее нажмите Shift+Enter."
   ]
  },
  {
   "cell_type": "markdown",
   "metadata": {},
   "source": [
    "- [x]  Jupyter Notebook открыт\n",
    "- [ ]  Весь код выполняется без ошибок\n",
    "- [ ]  Ячейки с кодом расположены в порядке исполнения\n",
    "- [ ]  Выполнен шаг 1: данные подготовлены\n",
    "- [ ]  Выполнен шаг 2: задача исследована\n",
    "    - [ ]  Исследован баланс классов\n",
    "    - [ ]  Изучены модели без учёта дисбаланса\n",
    "    - [ ]  Написаны выводы по результатам исследования\n",
    "- [ ]  Выполнен шаг 3: учтён дисбаланс\n",
    "    - [ ]  Применено несколько способов борьбы с дисбалансом\n",
    "    - [ ]  Написаны выводы по результатам исследования\n",
    "- [ ]  Выполнен шаг 4: проведено тестирование\n",
    "- [ ]  Удалось достичь *F1*-меры не менее 0.59\n",
    "- [ ]  Исследована метрика *AUC-ROC*"
   ]
  },
  {
   "cell_type": "code",
   "execution_count": null,
   "metadata": {},
   "outputs": [],
   "source": []
  }
 ],
 "metadata": {
  "ExecuteTimeLog": [
   {
    "duration": 1658,
    "start_time": "2023-08-05T18:53:38.547Z"
   },
   {
    "duration": 9,
    "start_time": "2023-08-05T18:53:40.206Z"
   },
   {
    "duration": 110,
    "start_time": "2023-08-05T18:53:42.932Z"
   },
   {
    "duration": 26,
    "start_time": "2023-08-05T18:53:44.885Z"
   },
   {
    "duration": 12,
    "start_time": "2023-08-05T18:53:48.225Z"
   },
   {
    "duration": 32,
    "start_time": "2023-08-05T18:53:50.548Z"
   },
   {
    "duration": 919,
    "start_time": "2023-08-05T18:53:52.548Z"
   },
   {
    "duration": 2178,
    "start_time": "2023-08-15T11:04:01.223Z"
   },
   {
    "duration": 5,
    "start_time": "2023-08-15T11:04:03.403Z"
   },
   {
    "duration": 372,
    "start_time": "2023-08-15T11:04:03.410Z"
   },
   {
    "duration": 24,
    "start_time": "2023-08-15T11:04:03.785Z"
   },
   {
    "duration": 114,
    "start_time": "2023-08-15T11:04:03.812Z"
   },
   {
    "duration": 95,
    "start_time": "2023-08-15T11:04:03.928Z"
   },
   {
    "duration": 1493,
    "start_time": "2023-08-15T11:04:04.025Z"
   },
   {
    "duration": 1150,
    "start_time": "2023-08-15T11:10:36.281Z"
   },
   {
    "duration": 10,
    "start_time": "2023-08-15T11:11:55.911Z"
   },
   {
    "duration": 4,
    "start_time": "2023-08-15T11:12:34.566Z"
   },
   {
    "duration": 9,
    "start_time": "2023-08-15T11:12:48.764Z"
   },
   {
    "duration": 6,
    "start_time": "2023-08-15T11:20:23.017Z"
   },
   {
    "duration": 8,
    "start_time": "2023-08-15T11:20:39.215Z"
   },
   {
    "duration": 105,
    "start_time": "2023-08-15T11:21:12.201Z"
   },
   {
    "duration": 15,
    "start_time": "2023-08-15T11:21:45.374Z"
   },
   {
    "duration": 20,
    "start_time": "2023-08-15T11:21:59.598Z"
   },
   {
    "duration": 14,
    "start_time": "2023-08-15T11:23:36.713Z"
   },
   {
    "duration": 15,
    "start_time": "2023-08-15T11:23:48.846Z"
   },
   {
    "duration": 20,
    "start_time": "2023-08-15T11:24:04.312Z"
   },
   {
    "duration": 174,
    "start_time": "2023-08-15T11:25:50.539Z"
   },
   {
    "duration": 8,
    "start_time": "2023-08-15T11:26:53.422Z"
   },
   {
    "duration": 158,
    "start_time": "2023-08-15T11:29:31.333Z"
   },
   {
    "duration": 32,
    "start_time": "2023-08-15T11:30:01.407Z"
   },
   {
    "duration": 14,
    "start_time": "2023-08-15T11:30:17.321Z"
   },
   {
    "duration": 22579,
    "start_time": "2023-08-15T11:35:51.018Z"
   },
   {
    "duration": 506,
    "start_time": "2023-08-15T11:36:38.019Z"
   },
   {
    "duration": 88,
    "start_time": "2023-08-15T11:37:35.230Z"
   },
   {
    "duration": 13,
    "start_time": "2023-08-15T11:38:51.270Z"
   },
   {
    "duration": 2855,
    "start_time": "2023-08-16T18:27:30.505Z"
   },
   {
    "duration": 3,
    "start_time": "2023-08-16T18:27:33.363Z"
   },
   {
    "duration": 142,
    "start_time": "2023-08-16T18:27:33.368Z"
   },
   {
    "duration": 21,
    "start_time": "2023-08-16T18:27:33.512Z"
   },
   {
    "duration": 36,
    "start_time": "2023-08-16T18:27:33.536Z"
   },
   {
    "duration": 63,
    "start_time": "2023-08-16T18:27:33.574Z"
   },
   {
    "duration": 1159,
    "start_time": "2023-08-16T18:27:33.639Z"
   },
   {
    "duration": 1291,
    "start_time": "2023-08-16T18:27:34.802Z"
   },
   {
    "duration": 9,
    "start_time": "2023-08-16T18:27:36.094Z"
   },
   {
    "duration": 180,
    "start_time": "2023-08-16T18:27:36.105Z"
   },
   {
    "duration": 20,
    "start_time": "2023-08-16T18:27:36.287Z"
   },
   {
    "duration": 7,
    "start_time": "2023-08-16T18:27:36.309Z"
   },
   {
    "duration": 18,
    "start_time": "2023-08-16T18:27:36.318Z"
   },
   {
    "duration": 15,
    "start_time": "2023-08-16T18:27:36.339Z"
   },
   {
    "duration": 23,
    "start_time": "2023-08-16T18:27:36.356Z"
   },
   {
    "duration": 145,
    "start_time": "2023-08-16T18:27:36.380Z"
   },
   {
    "duration": 15,
    "start_time": "2023-08-16T18:27:36.526Z"
   },
   {
    "duration": 28,
    "start_time": "2023-08-16T18:27:36.542Z"
   },
   {
    "duration": 152,
    "start_time": "2023-08-16T18:27:36.572Z"
   },
   {
    "duration": 8,
    "start_time": "2023-08-16T18:27:36.726Z"
   },
   {
    "duration": 162,
    "start_time": "2023-08-16T18:27:36.736Z"
   },
   {
    "duration": 23,
    "start_time": "2023-08-16T18:27:36.901Z"
   },
   {
    "duration": 32,
    "start_time": "2023-08-16T18:27:36.927Z"
   },
   {
    "duration": 20607,
    "start_time": "2023-08-16T18:27:36.962Z"
   },
   {
    "duration": 379,
    "start_time": "2023-08-16T18:27:57.571Z"
   },
   {
    "duration": 37,
    "start_time": "2023-08-16T18:27:57.953Z"
   },
   {
    "duration": 80,
    "start_time": "2023-08-16T18:27:57.993Z"
   },
   {
    "duration": 156,
    "start_time": "2023-08-16T19:57:31.698Z"
   },
   {
    "duration": 174,
    "start_time": "2023-08-16T19:57:59.278Z"
   },
   {
    "duration": 332,
    "start_time": "2023-08-16T19:58:48.042Z"
   },
   {
    "duration": 156,
    "start_time": "2023-08-16T20:02:47.992Z"
   },
   {
    "duration": 27,
    "start_time": "2023-08-16T20:03:03.836Z"
   },
   {
    "duration": 14,
    "start_time": "2023-08-16T20:03:14.005Z"
   },
   {
    "duration": 1704,
    "start_time": "2023-08-16T20:04:05.499Z"
   },
   {
    "duration": 3,
    "start_time": "2023-08-16T20:04:07.205Z"
   },
   {
    "duration": 189,
    "start_time": "2023-08-16T20:04:07.209Z"
   },
   {
    "duration": 18,
    "start_time": "2023-08-16T20:04:07.399Z"
   },
   {
    "duration": 13,
    "start_time": "2023-08-16T20:04:07.419Z"
   },
   {
    "duration": 40,
    "start_time": "2023-08-16T20:04:07.433Z"
   },
   {
    "duration": 1025,
    "start_time": "2023-08-16T20:04:07.474Z"
   },
   {
    "duration": 1211,
    "start_time": "2023-08-16T20:04:08.501Z"
   },
   {
    "duration": 7,
    "start_time": "2023-08-16T20:04:09.714Z"
   },
   {
    "duration": 32,
    "start_time": "2023-08-16T20:04:09.722Z"
   },
   {
    "duration": 15,
    "start_time": "2023-08-16T20:04:09.755Z"
   },
   {
    "duration": 9,
    "start_time": "2023-08-16T20:04:09.771Z"
   },
   {
    "duration": 19,
    "start_time": "2023-08-16T20:04:09.782Z"
   },
   {
    "duration": 13,
    "start_time": "2023-08-16T20:04:09.805Z"
   },
   {
    "duration": 34,
    "start_time": "2023-08-16T20:04:09.820Z"
   },
   {
    "duration": 31,
    "start_time": "2023-08-16T20:04:09.856Z"
   },
   {
    "duration": 22,
    "start_time": "2023-08-16T20:04:09.889Z"
   },
   {
    "duration": 12,
    "start_time": "2023-08-16T20:04:09.913Z"
   },
   {
    "duration": 127,
    "start_time": "2023-08-16T20:04:09.927Z"
   },
   {
    "duration": 8,
    "start_time": "2023-08-16T20:04:10.056Z"
   },
   {
    "duration": 155,
    "start_time": "2023-08-16T20:04:10.065Z"
   },
   {
    "duration": 30,
    "start_time": "2023-08-16T20:04:10.222Z"
   },
   {
    "duration": 15,
    "start_time": "2023-08-16T20:04:10.254Z"
   },
   {
    "duration": 19524,
    "start_time": "2023-08-16T20:04:10.271Z"
   },
   {
    "duration": 348,
    "start_time": "2023-08-16T20:04:29.797Z"
   },
   {
    "duration": 38,
    "start_time": "2023-08-16T20:04:30.146Z"
   },
   {
    "duration": 189,
    "start_time": "2023-08-16T20:04:30.186Z"
   },
   {
    "duration": 244,
    "start_time": "2023-08-16T20:04:30.377Z"
   },
   {
    "duration": 173,
    "start_time": "2023-08-16T20:04:30.623Z"
   },
   {
    "duration": 280,
    "start_time": "2023-08-16T20:04:30.798Z"
   },
   {
    "duration": 167,
    "start_time": "2023-08-16T20:04:31.080Z"
   },
   {
    "duration": 25,
    "start_time": "2023-08-16T20:04:31.252Z"
   },
   {
    "duration": 17,
    "start_time": "2023-08-16T20:04:31.279Z"
   },
   {
    "duration": 19474,
    "start_time": "2023-08-16T20:04:31.298Z"
   },
   {
    "duration": 603,
    "start_time": "2023-08-16T20:04:58.867Z"
   },
   {
    "duration": 50,
    "start_time": "2023-08-16T20:05:12.274Z"
   },
   {
    "duration": 37,
    "start_time": "2023-08-16T20:05:48.495Z"
   },
   {
    "duration": 15,
    "start_time": "2023-08-16T20:06:02.429Z"
   },
   {
    "duration": 14,
    "start_time": "2023-08-16T20:07:19.752Z"
   },
   {
    "duration": 88,
    "start_time": "2023-08-16T20:08:14.832Z"
   },
   {
    "duration": 26,
    "start_time": "2023-08-16T20:08:26.869Z"
   },
   {
    "duration": 12970,
    "start_time": "2023-08-16T20:09:10.827Z"
   },
   {
    "duration": 57,
    "start_time": "2023-08-16T20:09:39.556Z"
   },
   {
    "duration": 51,
    "start_time": "2023-08-17T12:22:27.862Z"
   },
   {
    "duration": 2647,
    "start_time": "2023-08-17T12:22:36.839Z"
   },
   {
    "duration": 4,
    "start_time": "2023-08-17T12:22:39.489Z"
   },
   {
    "duration": 125,
    "start_time": "2023-08-17T12:22:39.495Z"
   },
   {
    "duration": 21,
    "start_time": "2023-08-17T12:22:39.622Z"
   },
   {
    "duration": 14,
    "start_time": "2023-08-17T12:22:39.646Z"
   },
   {
    "duration": 57,
    "start_time": "2023-08-17T12:22:39.662Z"
   },
   {
    "duration": 1094,
    "start_time": "2023-08-17T12:22:39.721Z"
   },
   {
    "duration": 1225,
    "start_time": "2023-08-17T12:22:40.817Z"
   },
   {
    "duration": 10,
    "start_time": "2023-08-17T12:22:42.044Z"
   },
   {
    "duration": 31,
    "start_time": "2023-08-17T12:22:42.056Z"
   },
   {
    "duration": 33,
    "start_time": "2023-08-17T12:22:42.089Z"
   },
   {
    "duration": 21,
    "start_time": "2023-08-17T12:22:42.124Z"
   },
   {
    "duration": 37,
    "start_time": "2023-08-17T12:22:42.147Z"
   },
   {
    "duration": 37,
    "start_time": "2023-08-17T12:22:42.187Z"
   },
   {
    "duration": 32,
    "start_time": "2023-08-17T12:22:42.226Z"
   },
   {
    "duration": 31,
    "start_time": "2023-08-17T12:22:42.260Z"
   },
   {
    "duration": 26,
    "start_time": "2023-08-17T12:22:42.293Z"
   },
   {
    "duration": 25,
    "start_time": "2023-08-17T12:22:42.321Z"
   },
   {
    "duration": 141,
    "start_time": "2023-08-17T12:22:42.348Z"
   },
   {
    "duration": 18,
    "start_time": "2023-08-17T12:22:42.491Z"
   },
   {
    "duration": 162,
    "start_time": "2023-08-17T12:22:42.511Z"
   },
   {
    "duration": 33,
    "start_time": "2023-08-17T12:22:42.675Z"
   },
   {
    "duration": 14,
    "start_time": "2023-08-17T12:22:42.710Z"
   },
   {
    "duration": 20061,
    "start_time": "2023-08-17T12:22:42.726Z"
   },
   {
    "duration": 370,
    "start_time": "2023-08-17T12:23:02.790Z"
   },
   {
    "duration": 51,
    "start_time": "2023-08-17T12:23:03.162Z"
   },
   {
    "duration": 108,
    "start_time": "2023-08-17T12:23:03.217Z"
   },
   {
    "duration": 221,
    "start_time": "2023-08-17T12:23:03.327Z"
   },
   {
    "duration": 169,
    "start_time": "2023-08-17T12:23:03.549Z"
   },
   {
    "duration": 323,
    "start_time": "2023-08-17T12:23:03.720Z"
   },
   {
    "duration": 174,
    "start_time": "2023-08-17T12:23:04.045Z"
   },
   {
    "duration": 24,
    "start_time": "2023-08-17T12:23:04.220Z"
   },
   {
    "duration": 23,
    "start_time": "2023-08-17T12:23:04.246Z"
   },
   {
    "duration": 19944,
    "start_time": "2023-08-17T12:23:04.271Z"
   },
   {
    "duration": 597,
    "start_time": "2023-08-17T12:23:24.217Z"
   },
   {
    "duration": 57,
    "start_time": "2023-08-17T12:23:24.817Z"
   },
   {
    "duration": 54,
    "start_time": "2023-08-17T12:23:24.875Z"
   },
   {
    "duration": 175,
    "start_time": "2023-08-17T12:23:24.935Z"
   },
   {
    "duration": 111,
    "start_time": "2023-08-17T12:23:25.111Z"
   },
   {
    "duration": 115,
    "start_time": "2023-08-17T12:23:25.224Z"
   },
   {
    "duration": 28,
    "start_time": "2023-08-17T12:23:25.343Z"
   },
   {
    "duration": 12720,
    "start_time": "2023-08-17T12:23:25.373Z"
   },
   {
    "duration": 62,
    "start_time": "2023-08-17T12:23:38.095Z"
   },
   {
    "duration": 151,
    "start_time": "2023-08-17T12:23:38.159Z"
   },
   {
    "duration": 14,
    "start_time": "2023-08-17T12:24:33.709Z"
   },
   {
    "duration": 200,
    "start_time": "2023-08-17T12:25:03.788Z"
   },
   {
    "duration": 39,
    "start_time": "2023-08-17T12:25:26.373Z"
   },
   {
    "duration": 26385,
    "start_time": "2023-08-17T12:25:49.619Z"
   },
   {
    "duration": 110,
    "start_time": "2023-08-17T12:26:16.009Z"
   },
   {
    "duration": 119,
    "start_time": "2023-08-17T12:26:46.690Z"
   },
   {
    "duration": 12,
    "start_time": "2023-08-17T12:26:58.901Z"
   },
   {
    "duration": 7,
    "start_time": "2023-08-17T12:27:54.858Z"
   },
   {
    "duration": 5,
    "start_time": "2023-08-17T12:28:07.847Z"
   },
   {
    "duration": 5,
    "start_time": "2023-08-17T12:28:17.713Z"
   },
   {
    "duration": 3,
    "start_time": "2023-08-17T12:28:26.109Z"
   },
   {
    "duration": 4,
    "start_time": "2023-08-17T12:28:34.628Z"
   },
   {
    "duration": 19627,
    "start_time": "2023-08-17T12:29:01.638Z"
   },
   {
    "duration": 646,
    "start_time": "2023-08-17T12:29:21.267Z"
   },
   {
    "duration": 123,
    "start_time": "2023-08-17T12:29:28.220Z"
   },
   {
    "duration": 1935,
    "start_time": "2023-08-17T12:42:34.105Z"
   },
   {
    "duration": 6,
    "start_time": "2023-08-17T12:42:36.042Z"
   },
   {
    "duration": 101,
    "start_time": "2023-08-17T12:42:36.049Z"
   },
   {
    "duration": 18,
    "start_time": "2023-08-17T12:42:36.152Z"
   },
   {
    "duration": 18,
    "start_time": "2023-08-17T12:42:36.172Z"
   },
   {
    "duration": 62,
    "start_time": "2023-08-17T12:42:36.192Z"
   },
   {
    "duration": 1041,
    "start_time": "2023-08-17T12:42:36.256Z"
   },
   {
    "duration": 1127,
    "start_time": "2023-08-17T12:42:37.299Z"
   },
   {
    "duration": 21,
    "start_time": "2023-08-17T12:42:38.427Z"
   },
   {
    "duration": 4,
    "start_time": "2023-08-17T12:42:38.449Z"
   },
   {
    "duration": 19,
    "start_time": "2023-08-17T12:42:38.454Z"
   },
   {
    "duration": 8,
    "start_time": "2023-08-17T12:42:38.475Z"
   },
   {
    "duration": 13,
    "start_time": "2023-08-17T12:42:38.489Z"
   },
   {
    "duration": 10,
    "start_time": "2023-08-17T12:42:38.505Z"
   },
   {
    "duration": 120,
    "start_time": "2023-08-17T12:42:38.516Z"
   },
   {
    "duration": 14,
    "start_time": "2023-08-17T12:42:38.643Z"
   },
   {
    "duration": 14,
    "start_time": "2023-08-17T12:42:38.658Z"
   },
   {
    "duration": 18,
    "start_time": "2023-08-17T12:42:38.674Z"
   },
   {
    "duration": 123,
    "start_time": "2023-08-17T12:42:38.694Z"
   },
   {
    "duration": 24,
    "start_time": "2023-08-17T12:42:38.819Z"
   },
   {
    "duration": 151,
    "start_time": "2023-08-17T12:42:38.844Z"
   },
   {
    "duration": 22,
    "start_time": "2023-08-17T12:42:38.996Z"
   },
   {
    "duration": 29,
    "start_time": "2023-08-17T12:42:39.020Z"
   },
   {
    "duration": 18837,
    "start_time": "2023-08-17T12:42:39.050Z"
   },
   {
    "duration": 354,
    "start_time": "2023-08-17T12:42:57.889Z"
   },
   {
    "duration": 30,
    "start_time": "2023-08-17T12:42:58.248Z"
   },
   {
    "duration": 70,
    "start_time": "2023-08-17T12:42:58.279Z"
   },
   {
    "duration": 227,
    "start_time": "2023-08-17T12:42:58.351Z"
   },
   {
    "duration": 170,
    "start_time": "2023-08-17T12:42:58.580Z"
   },
   {
    "duration": 307,
    "start_time": "2023-08-17T12:42:58.752Z"
   },
   {
    "duration": 186,
    "start_time": "2023-08-17T12:42:59.061Z"
   },
   {
    "duration": 23,
    "start_time": "2023-08-17T12:42:59.249Z"
   },
   {
    "duration": 14,
    "start_time": "2023-08-17T12:42:59.273Z"
   },
   {
    "duration": 19218,
    "start_time": "2023-08-17T12:42:59.289Z"
   },
   {
    "duration": 607,
    "start_time": "2023-08-17T12:43:18.509Z"
   },
   {
    "duration": 59,
    "start_time": "2023-08-17T12:43:19.118Z"
   },
   {
    "duration": 77,
    "start_time": "2023-08-17T12:43:19.179Z"
   },
   {
    "duration": 101,
    "start_time": "2023-08-17T12:43:19.335Z"
   },
   {
    "duration": 104,
    "start_time": "2023-08-17T12:43:19.438Z"
   },
   {
    "duration": 105,
    "start_time": "2023-08-17T12:43:19.547Z"
   },
   {
    "duration": 28,
    "start_time": "2023-08-17T12:43:19.658Z"
   },
   {
    "duration": 12197,
    "start_time": "2023-08-17T12:43:19.687Z"
   },
   {
    "duration": 64,
    "start_time": "2023-08-17T12:43:31.886Z"
   },
   {
    "duration": 100,
    "start_time": "2023-08-17T12:43:31.952Z"
   },
   {
    "duration": 179,
    "start_time": "2023-08-17T12:43:32.057Z"
   },
   {
    "duration": 208,
    "start_time": "2023-08-17T12:43:32.240Z"
   },
   {
    "duration": 38,
    "start_time": "2023-08-17T12:43:32.452Z"
   },
   {
    "duration": 25231,
    "start_time": "2023-08-17T12:43:32.492Z"
   },
   {
    "duration": 99,
    "start_time": "2023-08-17T12:43:57.724Z"
   },
   {
    "duration": 124,
    "start_time": "2023-08-17T12:43:57.825Z"
   },
   {
    "duration": 186,
    "start_time": "2023-08-17T12:43:57.952Z"
   },
   {
    "duration": 8,
    "start_time": "2023-08-17T12:43:58.142Z"
   },
   {
    "duration": 29,
    "start_time": "2023-08-17T12:43:58.151Z"
   },
   {
    "duration": 17,
    "start_time": "2023-08-17T12:43:58.182Z"
   },
   {
    "duration": 53,
    "start_time": "2023-08-17T12:43:58.201Z"
   },
   {
    "duration": 35,
    "start_time": "2023-08-17T12:43:58.256Z"
   },
   {
    "duration": 18709,
    "start_time": "2023-08-17T12:43:58.293Z"
   },
   {
    "duration": 652,
    "start_time": "2023-08-17T12:44:17.004Z"
   },
   {
    "duration": 124,
    "start_time": "2023-08-17T12:44:17.658Z"
   },
   {
    "duration": 56,
    "start_time": "2023-08-26T15:38:19.771Z"
   },
   {
    "duration": 1668,
    "start_time": "2023-08-26T15:38:37.678Z"
   },
   {
    "duration": 3,
    "start_time": "2023-08-26T15:38:39.348Z"
   },
   {
    "duration": 83,
    "start_time": "2023-08-26T15:38:39.360Z"
   },
   {
    "duration": 17,
    "start_time": "2023-08-26T15:38:39.444Z"
   },
   {
    "duration": 14,
    "start_time": "2023-08-26T15:38:39.462Z"
   },
   {
    "duration": 38,
    "start_time": "2023-08-26T15:38:39.477Z"
   },
   {
    "duration": 1103,
    "start_time": "2023-08-26T15:38:39.517Z"
   },
   {
    "duration": 1129,
    "start_time": "2023-08-26T15:38:40.623Z"
   },
   {
    "duration": 7,
    "start_time": "2023-08-26T15:38:41.753Z"
   },
   {
    "duration": 5,
    "start_time": "2023-08-26T15:38:41.763Z"
   },
   {
    "duration": 11,
    "start_time": "2023-08-26T15:38:41.770Z"
   },
   {
    "duration": 7,
    "start_time": "2023-08-26T15:38:41.782Z"
   },
   {
    "duration": 8,
    "start_time": "2023-08-26T15:38:41.790Z"
   },
   {
    "duration": 12,
    "start_time": "2023-08-26T15:38:41.799Z"
   },
   {
    "duration": 13,
    "start_time": "2023-08-26T15:38:41.813Z"
   },
   {
    "duration": 29,
    "start_time": "2023-08-26T15:38:41.828Z"
   },
   {
    "duration": 12,
    "start_time": "2023-08-26T15:38:41.859Z"
   },
   {
    "duration": 133,
    "start_time": "2023-08-26T15:38:41.872Z"
   },
   {
    "duration": 0,
    "start_time": "2023-08-26T15:38:42.008Z"
   },
   {
    "duration": 0,
    "start_time": "2023-08-26T15:38:42.009Z"
   },
   {
    "duration": 0,
    "start_time": "2023-08-26T15:38:42.010Z"
   },
   {
    "duration": 0,
    "start_time": "2023-08-26T15:38:42.011Z"
   },
   {
    "duration": 0,
    "start_time": "2023-08-26T15:38:42.012Z"
   },
   {
    "duration": 0,
    "start_time": "2023-08-26T15:38:42.013Z"
   },
   {
    "duration": 0,
    "start_time": "2023-08-26T15:38:42.014Z"
   },
   {
    "duration": 0,
    "start_time": "2023-08-26T15:38:42.014Z"
   },
   {
    "duration": 0,
    "start_time": "2023-08-26T15:38:42.015Z"
   },
   {
    "duration": 0,
    "start_time": "2023-08-26T15:38:42.016Z"
   },
   {
    "duration": 0,
    "start_time": "2023-08-26T15:38:42.017Z"
   },
   {
    "duration": 0,
    "start_time": "2023-08-26T15:38:42.019Z"
   },
   {
    "duration": 0,
    "start_time": "2023-08-26T15:38:42.020Z"
   },
   {
    "duration": 0,
    "start_time": "2023-08-26T15:38:42.021Z"
   },
   {
    "duration": 0,
    "start_time": "2023-08-26T15:38:42.022Z"
   },
   {
    "duration": 0,
    "start_time": "2023-08-26T15:38:42.023Z"
   },
   {
    "duration": 0,
    "start_time": "2023-08-26T15:38:42.049Z"
   },
   {
    "duration": 0,
    "start_time": "2023-08-26T15:38:42.050Z"
   },
   {
    "duration": 0,
    "start_time": "2023-08-26T15:38:42.051Z"
   },
   {
    "duration": 0,
    "start_time": "2023-08-26T15:38:42.052Z"
   },
   {
    "duration": 0,
    "start_time": "2023-08-26T15:38:42.053Z"
   },
   {
    "duration": 0,
    "start_time": "2023-08-26T15:38:42.054Z"
   },
   {
    "duration": 0,
    "start_time": "2023-08-26T15:38:42.055Z"
   },
   {
    "duration": 0,
    "start_time": "2023-08-26T15:38:42.056Z"
   },
   {
    "duration": 0,
    "start_time": "2023-08-26T15:38:42.057Z"
   },
   {
    "duration": 0,
    "start_time": "2023-08-26T15:38:42.058Z"
   },
   {
    "duration": 0,
    "start_time": "2023-08-26T15:38:42.059Z"
   },
   {
    "duration": 0,
    "start_time": "2023-08-26T15:38:42.060Z"
   },
   {
    "duration": 0,
    "start_time": "2023-08-26T15:38:42.060Z"
   },
   {
    "duration": 0,
    "start_time": "2023-08-26T15:38:42.061Z"
   },
   {
    "duration": 0,
    "start_time": "2023-08-26T15:38:42.062Z"
   },
   {
    "duration": 0,
    "start_time": "2023-08-26T15:38:42.063Z"
   },
   {
    "duration": 0,
    "start_time": "2023-08-26T15:38:42.064Z"
   },
   {
    "duration": 0,
    "start_time": "2023-08-26T15:38:42.064Z"
   },
   {
    "duration": 0,
    "start_time": "2023-08-26T15:38:42.065Z"
   },
   {
    "duration": 0,
    "start_time": "2023-08-26T15:38:42.066Z"
   },
   {
    "duration": 0,
    "start_time": "2023-08-26T15:38:42.068Z"
   },
   {
    "duration": 1,
    "start_time": "2023-08-26T15:38:42.068Z"
   },
   {
    "duration": 0,
    "start_time": "2023-08-26T15:38:42.069Z"
   },
   {
    "duration": 0,
    "start_time": "2023-08-26T15:38:42.070Z"
   },
   {
    "duration": 0,
    "start_time": "2023-08-26T15:38:42.071Z"
   },
   {
    "duration": 0,
    "start_time": "2023-08-26T15:38:42.072Z"
   },
   {
    "duration": 20,
    "start_time": "2023-08-26T15:39:49.825Z"
   },
   {
    "duration": 20,
    "start_time": "2023-08-26T15:40:18.493Z"
   },
   {
    "duration": 24,
    "start_time": "2023-08-26T15:40:29.313Z"
   },
   {
    "duration": 21,
    "start_time": "2023-08-26T15:44:00.157Z"
   },
   {
    "duration": 15,
    "start_time": "2023-08-26T15:44:03.675Z"
   },
   {
    "duration": 1555,
    "start_time": "2023-08-26T15:44:36.933Z"
   },
   {
    "duration": 3,
    "start_time": "2023-08-26T15:44:38.490Z"
   },
   {
    "duration": 139,
    "start_time": "2023-08-26T15:44:38.494Z"
   },
   {
    "duration": 17,
    "start_time": "2023-08-26T15:44:38.635Z"
   },
   {
    "duration": 17,
    "start_time": "2023-08-26T15:44:38.654Z"
   },
   {
    "duration": 35,
    "start_time": "2023-08-26T15:44:38.672Z"
   },
   {
    "duration": 996,
    "start_time": "2023-08-26T15:44:38.708Z"
   },
   {
    "duration": 1089,
    "start_time": "2023-08-26T15:44:39.706Z"
   },
   {
    "duration": 7,
    "start_time": "2023-08-26T15:44:40.797Z"
   },
   {
    "duration": 21,
    "start_time": "2023-08-26T15:44:40.806Z"
   },
   {
    "duration": 21,
    "start_time": "2023-08-26T15:44:40.828Z"
   },
   {
    "duration": 11,
    "start_time": "2023-08-26T15:44:40.850Z"
   },
   {
    "duration": 9,
    "start_time": "2023-08-26T15:44:40.862Z"
   },
   {
    "duration": 17,
    "start_time": "2023-08-26T15:44:40.872Z"
   },
   {
    "duration": 12,
    "start_time": "2023-08-26T15:44:40.890Z"
   },
   {
    "duration": 16,
    "start_time": "2023-08-26T15:44:40.903Z"
   },
   {
    "duration": 10,
    "start_time": "2023-08-26T15:44:40.921Z"
   },
   {
    "duration": 129,
    "start_time": "2023-08-26T15:44:40.932Z"
   },
   {
    "duration": 0,
    "start_time": "2023-08-26T15:44:41.063Z"
   },
   {
    "duration": 0,
    "start_time": "2023-08-26T15:44:41.064Z"
   },
   {
    "duration": 0,
    "start_time": "2023-08-26T15:44:41.065Z"
   },
   {
    "duration": 0,
    "start_time": "2023-08-26T15:44:41.065Z"
   },
   {
    "duration": 0,
    "start_time": "2023-08-26T15:44:41.066Z"
   },
   {
    "duration": 0,
    "start_time": "2023-08-26T15:44:41.067Z"
   },
   {
    "duration": 0,
    "start_time": "2023-08-26T15:44:41.068Z"
   },
   {
    "duration": 0,
    "start_time": "2023-08-26T15:44:41.069Z"
   },
   {
    "duration": 0,
    "start_time": "2023-08-26T15:44:41.070Z"
   },
   {
    "duration": 0,
    "start_time": "2023-08-26T15:44:41.071Z"
   },
   {
    "duration": 0,
    "start_time": "2023-08-26T15:44:41.072Z"
   },
   {
    "duration": 0,
    "start_time": "2023-08-26T15:44:41.073Z"
   },
   {
    "duration": 0,
    "start_time": "2023-08-26T15:44:41.074Z"
   },
   {
    "duration": 0,
    "start_time": "2023-08-26T15:44:41.075Z"
   },
   {
    "duration": 0,
    "start_time": "2023-08-26T15:44:41.076Z"
   },
   {
    "duration": 0,
    "start_time": "2023-08-26T15:44:41.077Z"
   },
   {
    "duration": 0,
    "start_time": "2023-08-26T15:44:41.078Z"
   },
   {
    "duration": 0,
    "start_time": "2023-08-26T15:44:41.079Z"
   },
   {
    "duration": 0,
    "start_time": "2023-08-26T15:44:41.080Z"
   },
   {
    "duration": 0,
    "start_time": "2023-08-26T15:44:41.081Z"
   },
   {
    "duration": 0,
    "start_time": "2023-08-26T15:44:41.082Z"
   },
   {
    "duration": 0,
    "start_time": "2023-08-26T15:44:41.083Z"
   },
   {
    "duration": 0,
    "start_time": "2023-08-26T15:44:41.084Z"
   },
   {
    "duration": 0,
    "start_time": "2023-08-26T15:44:41.085Z"
   },
   {
    "duration": 0,
    "start_time": "2023-08-26T15:44:41.086Z"
   },
   {
    "duration": 0,
    "start_time": "2023-08-26T15:44:41.087Z"
   },
   {
    "duration": 0,
    "start_time": "2023-08-26T15:44:41.088Z"
   },
   {
    "duration": 0,
    "start_time": "2023-08-26T15:44:41.088Z"
   },
   {
    "duration": 0,
    "start_time": "2023-08-26T15:44:41.089Z"
   },
   {
    "duration": 0,
    "start_time": "2023-08-26T15:44:41.090Z"
   },
   {
    "duration": 0,
    "start_time": "2023-08-26T15:44:41.091Z"
   },
   {
    "duration": 0,
    "start_time": "2023-08-26T15:44:41.092Z"
   },
   {
    "duration": 0,
    "start_time": "2023-08-26T15:44:41.093Z"
   },
   {
    "duration": 0,
    "start_time": "2023-08-26T15:44:41.094Z"
   },
   {
    "duration": 0,
    "start_time": "2023-08-26T15:44:41.095Z"
   },
   {
    "duration": 0,
    "start_time": "2023-08-26T15:44:41.096Z"
   },
   {
    "duration": 0,
    "start_time": "2023-08-26T15:44:41.097Z"
   },
   {
    "duration": 0,
    "start_time": "2023-08-26T15:44:41.098Z"
   },
   {
    "duration": 0,
    "start_time": "2023-08-26T15:44:41.150Z"
   },
   {
    "duration": 0,
    "start_time": "2023-08-26T15:44:41.151Z"
   },
   {
    "duration": 0,
    "start_time": "2023-08-26T15:44:41.152Z"
   },
   {
    "duration": 0,
    "start_time": "2023-08-26T15:44:41.153Z"
   },
   {
    "duration": 16,
    "start_time": "2023-08-26T15:45:05.659Z"
   },
   {
    "duration": 1664,
    "start_time": "2023-08-26T15:45:12.155Z"
   },
   {
    "duration": 3,
    "start_time": "2023-08-26T15:45:13.820Z"
   },
   {
    "duration": 57,
    "start_time": "2023-08-26T15:45:13.825Z"
   },
   {
    "duration": 17,
    "start_time": "2023-08-26T15:45:13.884Z"
   },
   {
    "duration": 11,
    "start_time": "2023-08-26T15:45:13.902Z"
   },
   {
    "duration": 38,
    "start_time": "2023-08-26T15:45:13.914Z"
   },
   {
    "duration": 986,
    "start_time": "2023-08-26T15:45:13.954Z"
   },
   {
    "duration": 1166,
    "start_time": "2023-08-26T15:45:14.942Z"
   },
   {
    "duration": 8,
    "start_time": "2023-08-26T15:45:16.110Z"
   },
   {
    "duration": 10,
    "start_time": "2023-08-26T15:45:16.121Z"
   },
   {
    "duration": 20,
    "start_time": "2023-08-26T15:45:16.133Z"
   },
   {
    "duration": 7,
    "start_time": "2023-08-26T15:45:16.155Z"
   },
   {
    "duration": 6,
    "start_time": "2023-08-26T15:45:16.165Z"
   },
   {
    "duration": 13,
    "start_time": "2023-08-26T15:45:16.172Z"
   },
   {
    "duration": 18,
    "start_time": "2023-08-26T15:45:16.187Z"
   },
   {
    "duration": 23,
    "start_time": "2023-08-26T15:45:16.207Z"
   },
   {
    "duration": 3,
    "start_time": "2023-08-26T15:45:16.256Z"
   },
   {
    "duration": 24,
    "start_time": "2023-08-26T15:45:16.261Z"
   },
   {
    "duration": 13,
    "start_time": "2023-08-26T15:45:16.287Z"
   },
   {
    "duration": 149,
    "start_time": "2023-08-26T15:45:16.303Z"
   },
   {
    "duration": 12,
    "start_time": "2023-08-26T15:45:16.458Z"
   },
   {
    "duration": 173,
    "start_time": "2023-08-26T15:45:16.472Z"
   },
   {
    "duration": 28,
    "start_time": "2023-08-26T15:45:16.649Z"
   },
   {
    "duration": 11,
    "start_time": "2023-08-26T15:45:16.679Z"
   },
   {
    "duration": 18389,
    "start_time": "2023-08-26T15:45:16.692Z"
   },
   {
    "duration": 0,
    "start_time": "2023-08-26T15:45:35.083Z"
   },
   {
    "duration": 0,
    "start_time": "2023-08-26T15:45:35.085Z"
   },
   {
    "duration": 0,
    "start_time": "2023-08-26T15:45:35.086Z"
   },
   {
    "duration": 0,
    "start_time": "2023-08-26T15:45:35.087Z"
   },
   {
    "duration": 0,
    "start_time": "2023-08-26T15:45:35.088Z"
   },
   {
    "duration": 0,
    "start_time": "2023-08-26T15:45:35.089Z"
   },
   {
    "duration": 0,
    "start_time": "2023-08-26T15:45:35.090Z"
   },
   {
    "duration": 0,
    "start_time": "2023-08-26T15:45:35.091Z"
   },
   {
    "duration": 0,
    "start_time": "2023-08-26T15:45:35.092Z"
   },
   {
    "duration": 0,
    "start_time": "2023-08-26T15:45:35.093Z"
   },
   {
    "duration": 0,
    "start_time": "2023-08-26T15:45:35.094Z"
   },
   {
    "duration": 0,
    "start_time": "2023-08-26T15:45:35.095Z"
   },
   {
    "duration": 0,
    "start_time": "2023-08-26T15:45:35.096Z"
   },
   {
    "duration": 0,
    "start_time": "2023-08-26T15:45:35.097Z"
   },
   {
    "duration": 0,
    "start_time": "2023-08-26T15:45:35.098Z"
   },
   {
    "duration": 0,
    "start_time": "2023-08-26T15:45:35.099Z"
   },
   {
    "duration": 0,
    "start_time": "2023-08-26T15:45:35.100Z"
   },
   {
    "duration": 0,
    "start_time": "2023-08-26T15:45:35.101Z"
   },
   {
    "duration": 0,
    "start_time": "2023-08-26T15:45:35.102Z"
   },
   {
    "duration": 0,
    "start_time": "2023-08-26T15:45:35.103Z"
   },
   {
    "duration": 0,
    "start_time": "2023-08-26T15:45:35.104Z"
   },
   {
    "duration": 0,
    "start_time": "2023-08-26T15:45:35.105Z"
   },
   {
    "duration": 0,
    "start_time": "2023-08-26T15:45:35.106Z"
   },
   {
    "duration": 0,
    "start_time": "2023-08-26T15:45:35.107Z"
   },
   {
    "duration": 0,
    "start_time": "2023-08-26T15:45:35.108Z"
   },
   {
    "duration": 0,
    "start_time": "2023-08-26T15:45:35.109Z"
   },
   {
    "duration": 0,
    "start_time": "2023-08-26T15:45:35.152Z"
   },
   {
    "duration": 0,
    "start_time": "2023-08-26T15:45:35.154Z"
   },
   {
    "duration": 1,
    "start_time": "2023-08-26T15:45:35.155Z"
   },
   {
    "duration": 0,
    "start_time": "2023-08-26T15:45:35.157Z"
   },
   {
    "duration": 0,
    "start_time": "2023-08-26T15:45:35.159Z"
   },
   {
    "duration": 0,
    "start_time": "2023-08-26T15:45:35.164Z"
   },
   {
    "duration": 0,
    "start_time": "2023-08-26T15:45:35.165Z"
   },
   {
    "duration": 0,
    "start_time": "2023-08-26T15:45:35.167Z"
   },
   {
    "duration": 0,
    "start_time": "2023-08-26T15:45:35.169Z"
   },
   {
    "duration": 321,
    "start_time": "2023-08-26T15:48:50.434Z"
   },
   {
    "duration": 12,
    "start_time": "2023-08-26T15:49:02.933Z"
   },
   {
    "duration": 1539,
    "start_time": "2023-08-26T15:49:20.740Z"
   },
   {
    "duration": 4,
    "start_time": "2023-08-26T15:49:22.281Z"
   },
   {
    "duration": 80,
    "start_time": "2023-08-26T15:49:22.287Z"
   },
   {
    "duration": 17,
    "start_time": "2023-08-26T15:49:22.369Z"
   },
   {
    "duration": 14,
    "start_time": "2023-08-26T15:49:22.387Z"
   },
   {
    "duration": 35,
    "start_time": "2023-08-26T15:49:22.403Z"
   },
   {
    "duration": 966,
    "start_time": "2023-08-26T15:49:22.450Z"
   },
   {
    "duration": 1016,
    "start_time": "2023-08-26T15:49:23.418Z"
   },
   {
    "duration": 7,
    "start_time": "2023-08-26T15:49:24.436Z"
   },
   {
    "duration": 5,
    "start_time": "2023-08-26T15:49:24.450Z"
   },
   {
    "duration": 10,
    "start_time": "2023-08-26T15:49:24.457Z"
   },
   {
    "duration": 4,
    "start_time": "2023-08-26T15:49:24.470Z"
   },
   {
    "duration": 6,
    "start_time": "2023-08-26T15:49:24.475Z"
   },
   {
    "duration": 11,
    "start_time": "2023-08-26T15:49:24.485Z"
   },
   {
    "duration": 33,
    "start_time": "2023-08-26T15:49:24.497Z"
   },
   {
    "duration": 25,
    "start_time": "2023-08-26T15:49:24.531Z"
   },
   {
    "duration": 2,
    "start_time": "2023-08-26T15:49:24.557Z"
   },
   {
    "duration": 15,
    "start_time": "2023-08-26T15:49:24.561Z"
   },
   {
    "duration": 11,
    "start_time": "2023-08-26T15:49:24.577Z"
   },
   {
    "duration": 138,
    "start_time": "2023-08-26T15:49:24.589Z"
   },
   {
    "duration": 6,
    "start_time": "2023-08-26T15:49:24.728Z"
   },
   {
    "duration": 145,
    "start_time": "2023-08-26T15:49:24.751Z"
   },
   {
    "duration": 25,
    "start_time": "2023-08-26T15:49:24.898Z"
   },
   {
    "duration": 24,
    "start_time": "2023-08-26T15:49:24.925Z"
   },
   {
    "duration": 17810,
    "start_time": "2023-08-26T15:49:24.951Z"
   },
   {
    "duration": 0,
    "start_time": "2023-08-26T15:49:42.763Z"
   },
   {
    "duration": 0,
    "start_time": "2023-08-26T15:49:42.764Z"
   },
   {
    "duration": 0,
    "start_time": "2023-08-26T15:49:42.766Z"
   },
   {
    "duration": 0,
    "start_time": "2023-08-26T15:49:42.767Z"
   },
   {
    "duration": 0,
    "start_time": "2023-08-26T15:49:42.768Z"
   },
   {
    "duration": 0,
    "start_time": "2023-08-26T15:49:42.769Z"
   },
   {
    "duration": 0,
    "start_time": "2023-08-26T15:49:42.770Z"
   },
   {
    "duration": 0,
    "start_time": "2023-08-26T15:49:42.772Z"
   },
   {
    "duration": 0,
    "start_time": "2023-08-26T15:49:42.774Z"
   },
   {
    "duration": 0,
    "start_time": "2023-08-26T15:49:42.776Z"
   },
   {
    "duration": 0,
    "start_time": "2023-08-26T15:49:42.777Z"
   },
   {
    "duration": 0,
    "start_time": "2023-08-26T15:49:42.778Z"
   },
   {
    "duration": 0,
    "start_time": "2023-08-26T15:49:42.779Z"
   },
   {
    "duration": 0,
    "start_time": "2023-08-26T15:49:42.782Z"
   },
   {
    "duration": 0,
    "start_time": "2023-08-26T15:49:42.783Z"
   },
   {
    "duration": 1,
    "start_time": "2023-08-26T15:49:42.784Z"
   },
   {
    "duration": 0,
    "start_time": "2023-08-26T15:49:42.786Z"
   },
   {
    "duration": 0,
    "start_time": "2023-08-26T15:49:42.788Z"
   },
   {
    "duration": 0,
    "start_time": "2023-08-26T15:49:42.789Z"
   },
   {
    "duration": 0,
    "start_time": "2023-08-26T15:49:42.791Z"
   },
   {
    "duration": 0,
    "start_time": "2023-08-26T15:49:42.793Z"
   },
   {
    "duration": 0,
    "start_time": "2023-08-26T15:49:42.794Z"
   },
   {
    "duration": 0,
    "start_time": "2023-08-26T15:49:42.796Z"
   },
   {
    "duration": 0,
    "start_time": "2023-08-26T15:49:42.849Z"
   },
   {
    "duration": 0,
    "start_time": "2023-08-26T15:49:42.851Z"
   },
   {
    "duration": 0,
    "start_time": "2023-08-26T15:49:42.852Z"
   },
   {
    "duration": 0,
    "start_time": "2023-08-26T15:49:42.854Z"
   },
   {
    "duration": 0,
    "start_time": "2023-08-26T15:49:42.855Z"
   },
   {
    "duration": 0,
    "start_time": "2023-08-26T15:49:42.856Z"
   },
   {
    "duration": 0,
    "start_time": "2023-08-26T15:49:42.858Z"
   },
   {
    "duration": 0,
    "start_time": "2023-08-26T15:49:42.859Z"
   },
   {
    "duration": 0,
    "start_time": "2023-08-26T15:49:42.860Z"
   },
   {
    "duration": 0,
    "start_time": "2023-08-26T15:49:42.862Z"
   },
   {
    "duration": 0,
    "start_time": "2023-08-26T15:49:42.863Z"
   },
   {
    "duration": 0,
    "start_time": "2023-08-26T15:49:42.864Z"
   },
   {
    "duration": 17408,
    "start_time": "2023-08-26T15:50:12.786Z"
   },
   {
    "duration": 17183,
    "start_time": "2023-08-26T15:51:22.112Z"
   },
   {
    "duration": 6,
    "start_time": "2023-08-26T15:53:46.408Z"
   },
   {
    "duration": 11,
    "start_time": "2023-08-26T15:54:04.075Z"
   },
   {
    "duration": 1521,
    "start_time": "2023-08-26T15:56:43.392Z"
   },
   {
    "duration": 2,
    "start_time": "2023-08-26T15:56:44.915Z"
   },
   {
    "duration": 93,
    "start_time": "2023-08-26T15:56:44.918Z"
   },
   {
    "duration": 16,
    "start_time": "2023-08-26T15:56:45.013Z"
   },
   {
    "duration": 57,
    "start_time": "2023-08-26T15:56:45.031Z"
   },
   {
    "duration": 43,
    "start_time": "2023-08-26T15:56:45.089Z"
   },
   {
    "duration": 1074,
    "start_time": "2023-08-26T15:56:45.134Z"
   },
   {
    "duration": 1046,
    "start_time": "2023-08-26T15:56:46.210Z"
   },
   {
    "duration": 8,
    "start_time": "2023-08-26T15:56:47.258Z"
   },
   {
    "duration": 5,
    "start_time": "2023-08-26T15:56:47.267Z"
   },
   {
    "duration": 7,
    "start_time": "2023-08-26T15:56:47.273Z"
   },
   {
    "duration": 4,
    "start_time": "2023-08-26T15:56:47.281Z"
   },
   {
    "duration": 5,
    "start_time": "2023-08-26T15:56:47.286Z"
   },
   {
    "duration": 8,
    "start_time": "2023-08-26T15:56:47.294Z"
   },
   {
    "duration": 47,
    "start_time": "2023-08-26T15:56:47.303Z"
   },
   {
    "duration": 10,
    "start_time": "2023-08-26T15:56:47.351Z"
   },
   {
    "duration": 2,
    "start_time": "2023-08-26T15:56:47.362Z"
   },
   {
    "duration": 15,
    "start_time": "2023-08-26T15:56:47.365Z"
   },
   {
    "duration": 11,
    "start_time": "2023-08-26T15:56:47.381Z"
   },
   {
    "duration": 115,
    "start_time": "2023-08-26T15:56:47.393Z"
   },
   {
    "duration": 8,
    "start_time": "2023-08-26T15:56:47.509Z"
   },
   {
    "duration": 147,
    "start_time": "2023-08-26T15:56:47.518Z"
   },
   {
    "duration": 22,
    "start_time": "2023-08-26T15:56:47.666Z"
   },
   {
    "duration": 12,
    "start_time": "2023-08-26T15:56:47.690Z"
   },
   {
    "duration": 17151,
    "start_time": "2023-08-26T15:56:47.703Z"
   },
   {
    "duration": 299,
    "start_time": "2023-08-26T15:57:04.856Z"
   },
   {
    "duration": 92,
    "start_time": "2023-08-26T15:57:05.157Z"
   },
   {
    "duration": 100,
    "start_time": "2023-08-26T15:57:05.252Z"
   },
   {
    "duration": 122,
    "start_time": "2023-08-26T15:57:05.354Z"
   },
   {
    "duration": 146,
    "start_time": "2023-08-26T15:57:05.478Z"
   },
   {
    "duration": 295,
    "start_time": "2023-08-26T15:57:05.626Z"
   },
   {
    "duration": 165,
    "start_time": "2023-08-26T15:57:05.923Z"
   },
   {
    "duration": 23,
    "start_time": "2023-08-26T15:57:06.090Z"
   },
   {
    "duration": 14,
    "start_time": "2023-08-26T15:57:06.115Z"
   },
   {
    "duration": 17331,
    "start_time": "2023-08-26T15:57:06.131Z"
   },
   {
    "duration": 478,
    "start_time": "2023-08-26T15:57:23.464Z"
   },
   {
    "duration": 47,
    "start_time": "2023-08-26T15:57:23.943Z"
   },
   {
    "duration": 159,
    "start_time": "2023-08-26T15:57:23.991Z"
   },
   {
    "duration": 97,
    "start_time": "2023-08-26T15:57:24.152Z"
   },
   {
    "duration": 101,
    "start_time": "2023-08-26T15:57:24.252Z"
   },
   {
    "duration": 76,
    "start_time": "2023-08-26T15:57:24.357Z"
   },
   {
    "duration": 24,
    "start_time": "2023-08-26T15:57:24.449Z"
   },
   {
    "duration": 11294,
    "start_time": "2023-08-26T15:57:24.474Z"
   },
   {
    "duration": 48,
    "start_time": "2023-08-26T15:57:35.770Z"
   },
   {
    "duration": 143,
    "start_time": "2023-08-26T15:57:35.820Z"
   },
   {
    "duration": 101,
    "start_time": "2023-08-26T15:57:36.060Z"
   },
   {
    "duration": 209,
    "start_time": "2023-08-26T15:57:36.163Z"
   },
   {
    "duration": 34,
    "start_time": "2023-08-26T15:57:36.374Z"
   },
   {
    "duration": 23581,
    "start_time": "2023-08-26T15:57:36.409Z"
   },
   {
    "duration": 122,
    "start_time": "2023-08-26T15:57:59.992Z"
   },
   {
    "duration": 135,
    "start_time": "2023-08-26T15:58:00.116Z"
   },
   {
    "duration": 97,
    "start_time": "2023-08-26T15:58:00.253Z"
   },
   {
    "duration": 33,
    "start_time": "2023-08-26T15:58:00.352Z"
   },
   {
    "duration": 33,
    "start_time": "2023-08-26T15:58:00.386Z"
   },
   {
    "duration": 31,
    "start_time": "2023-08-26T15:58:00.421Z"
   },
   {
    "duration": 47,
    "start_time": "2023-08-26T15:58:00.454Z"
   },
   {
    "duration": 34,
    "start_time": "2023-08-26T15:58:00.503Z"
   },
   {
    "duration": 17839,
    "start_time": "2023-08-26T15:58:00.539Z"
   },
   {
    "duration": 572,
    "start_time": "2023-08-26T15:58:18.380Z"
   },
   {
    "duration": 155,
    "start_time": "2023-08-26T15:58:18.954Z"
   },
   {
    "duration": 6,
    "start_time": "2023-08-26T16:04:24.343Z"
   },
   {
    "duration": 148,
    "start_time": "2023-08-26T16:04:33.721Z"
   },
   {
    "duration": 1633,
    "start_time": "2023-08-26T16:04:46.296Z"
   },
   {
    "duration": 2,
    "start_time": "2023-08-26T16:04:47.931Z"
   },
   {
    "duration": 75,
    "start_time": "2023-08-26T16:04:47.935Z"
   },
   {
    "duration": 18,
    "start_time": "2023-08-26T16:04:48.012Z"
   },
   {
    "duration": 16,
    "start_time": "2023-08-26T16:04:48.031Z"
   },
   {
    "duration": 39,
    "start_time": "2023-08-26T16:04:48.048Z"
   },
   {
    "duration": 1105,
    "start_time": "2023-08-26T16:04:48.088Z"
   },
   {
    "duration": 1122,
    "start_time": "2023-08-26T16:04:49.195Z"
   },
   {
    "duration": 8,
    "start_time": "2023-08-26T16:04:50.319Z"
   },
   {
    "duration": 41,
    "start_time": "2023-08-26T16:04:50.329Z"
   },
   {
    "duration": 56,
    "start_time": "2023-08-26T16:04:50.372Z"
   },
   {
    "duration": 40,
    "start_time": "2023-08-26T16:04:50.429Z"
   },
   {
    "duration": 47,
    "start_time": "2023-08-26T16:04:50.470Z"
   },
   {
    "duration": 38,
    "start_time": "2023-08-26T16:04:50.518Z"
   },
   {
    "duration": 32,
    "start_time": "2023-08-26T16:04:50.558Z"
   },
   {
    "duration": 28,
    "start_time": "2023-08-26T16:04:50.591Z"
   },
   {
    "duration": 14,
    "start_time": "2023-08-26T16:04:50.621Z"
   },
   {
    "duration": 45,
    "start_time": "2023-08-26T16:04:50.637Z"
   },
   {
    "duration": 31,
    "start_time": "2023-08-26T16:04:50.683Z"
   },
   {
    "duration": 125,
    "start_time": "2023-08-26T16:04:50.716Z"
   },
   {
    "duration": 8,
    "start_time": "2023-08-26T16:04:50.843Z"
   },
   {
    "duration": 147,
    "start_time": "2023-08-26T16:04:50.853Z"
   },
   {
    "duration": 21,
    "start_time": "2023-08-26T16:04:51.001Z"
   },
   {
    "duration": 29,
    "start_time": "2023-08-26T16:04:51.024Z"
   },
   {
    "duration": 18805,
    "start_time": "2023-08-26T16:04:51.055Z"
   },
   {
    "duration": 315,
    "start_time": "2023-08-26T16:05:09.862Z"
   },
   {
    "duration": 75,
    "start_time": "2023-08-26T16:05:10.178Z"
   },
   {
    "duration": 97,
    "start_time": "2023-08-26T16:05:10.258Z"
   },
   {
    "duration": 143,
    "start_time": "2023-08-26T16:05:10.357Z"
   },
   {
    "duration": 158,
    "start_time": "2023-08-26T16:05:10.501Z"
   },
   {
    "duration": 292,
    "start_time": "2023-08-26T16:05:10.661Z"
   },
   {
    "duration": 151,
    "start_time": "2023-08-26T16:05:10.955Z"
   },
   {
    "duration": 21,
    "start_time": "2023-08-26T16:05:11.108Z"
   },
   {
    "duration": 23,
    "start_time": "2023-08-26T16:05:11.130Z"
   },
   {
    "duration": 18161,
    "start_time": "2023-08-26T16:05:11.155Z"
   },
   {
    "duration": 519,
    "start_time": "2023-08-26T16:05:29.318Z"
   },
   {
    "duration": 61,
    "start_time": "2023-08-26T16:05:29.838Z"
   },
   {
    "duration": 25,
    "start_time": "2023-08-26T16:05:29.901Z"
   },
   {
    "duration": 105,
    "start_time": "2023-08-26T16:05:29.951Z"
   },
   {
    "duration": 103,
    "start_time": "2023-08-26T16:05:30.058Z"
   },
   {
    "duration": 192,
    "start_time": "2023-08-26T16:05:30.163Z"
   },
   {
    "duration": 22,
    "start_time": "2023-08-26T16:05:30.356Z"
   },
   {
    "duration": 12866,
    "start_time": "2023-08-26T16:05:30.380Z"
   },
   {
    "duration": 64,
    "start_time": "2023-08-26T16:05:43.249Z"
   },
   {
    "duration": 44,
    "start_time": "2023-08-26T16:05:43.315Z"
   },
   {
    "duration": 103,
    "start_time": "2023-08-26T16:05:43.361Z"
   },
   {
    "duration": 280,
    "start_time": "2023-08-26T16:05:43.466Z"
   },
   {
    "duration": 47,
    "start_time": "2023-08-26T16:05:43.749Z"
   },
   {
    "duration": 26393,
    "start_time": "2023-08-26T16:05:43.798Z"
   },
   {
    "duration": 110,
    "start_time": "2023-08-26T16:06:10.193Z"
   },
   {
    "duration": 153,
    "start_time": "2023-08-26T16:06:10.305Z"
   },
   {
    "duration": 93,
    "start_time": "2023-08-26T16:06:10.461Z"
   },
   {
    "duration": 3,
    "start_time": "2023-08-26T16:06:10.557Z"
   },
   {
    "duration": 10,
    "start_time": "2023-08-26T16:06:10.562Z"
   },
   {
    "duration": 153,
    "start_time": "2023-08-26T16:06:10.573Z"
   },
   {
    "duration": 0,
    "start_time": "2023-08-26T16:06:10.728Z"
   },
   {
    "duration": 1,
    "start_time": "2023-08-26T16:06:10.729Z"
   },
   {
    "duration": 0,
    "start_time": "2023-08-26T16:06:10.731Z"
   },
   {
    "duration": 0,
    "start_time": "2023-08-26T16:06:10.733Z"
   },
   {
    "duration": 0,
    "start_time": "2023-08-26T16:06:10.750Z"
   },
   {
    "duration": 0,
    "start_time": "2023-08-26T16:06:10.752Z"
   },
   {
    "duration": 0,
    "start_time": "2023-08-26T16:06:10.753Z"
   },
   {
    "duration": 5,
    "start_time": "2023-08-26T16:09:25.972Z"
   },
   {
    "duration": 4,
    "start_time": "2023-08-26T16:09:26.923Z"
   },
   {
    "duration": 4,
    "start_time": "2023-08-26T16:09:27.880Z"
   },
   {
    "duration": 3,
    "start_time": "2023-08-26T16:09:28.880Z"
   },
   {
    "duration": 49,
    "start_time": "2023-08-26T16:11:24.284Z"
   },
   {
    "duration": 22486,
    "start_time": "2023-08-26T16:11:47.054Z"
   },
   {
    "duration": 644,
    "start_time": "2023-08-26T16:14:46.552Z"
   },
   {
    "duration": 16,
    "start_time": "2023-08-26T16:14:56.068Z"
   },
   {
    "duration": 128,
    "start_time": "2023-08-26T16:15:09.046Z"
   },
   {
    "duration": 1556,
    "start_time": "2023-08-26T16:22:28.239Z"
   },
   {
    "duration": 3,
    "start_time": "2023-08-26T16:22:29.796Z"
   },
   {
    "duration": 68,
    "start_time": "2023-08-26T16:22:29.800Z"
   },
   {
    "duration": 18,
    "start_time": "2023-08-26T16:22:29.870Z"
   },
   {
    "duration": 11,
    "start_time": "2023-08-26T16:22:29.890Z"
   },
   {
    "duration": 49,
    "start_time": "2023-08-26T16:22:29.902Z"
   },
   {
    "duration": 951,
    "start_time": "2023-08-26T16:22:29.953Z"
   },
   {
    "duration": 1017,
    "start_time": "2023-08-26T16:22:30.906Z"
   },
   {
    "duration": 7,
    "start_time": "2023-08-26T16:22:31.925Z"
   },
   {
    "duration": 43,
    "start_time": "2023-08-26T16:22:31.934Z"
   },
   {
    "duration": 33,
    "start_time": "2023-08-26T16:22:31.979Z"
   },
   {
    "duration": 52,
    "start_time": "2023-08-26T16:22:32.014Z"
   },
   {
    "duration": 37,
    "start_time": "2023-08-26T16:22:32.068Z"
   },
   {
    "duration": 13,
    "start_time": "2023-08-26T16:22:32.107Z"
   },
   {
    "duration": 36,
    "start_time": "2023-08-26T16:22:32.121Z"
   },
   {
    "duration": 16,
    "start_time": "2023-08-26T16:22:32.159Z"
   },
   {
    "duration": 2,
    "start_time": "2023-08-26T16:22:32.177Z"
   },
   {
    "duration": 34,
    "start_time": "2023-08-26T16:22:32.181Z"
   },
   {
    "duration": 15,
    "start_time": "2023-08-26T16:22:32.216Z"
   },
   {
    "duration": 125,
    "start_time": "2023-08-26T16:22:32.232Z"
   },
   {
    "duration": 8,
    "start_time": "2023-08-26T16:22:32.358Z"
   },
   {
    "duration": 158,
    "start_time": "2023-08-26T16:22:32.368Z"
   },
   {
    "duration": 34,
    "start_time": "2023-08-26T16:22:32.528Z"
   },
   {
    "duration": 13,
    "start_time": "2023-08-26T16:22:32.564Z"
   },
   {
    "duration": 18048,
    "start_time": "2023-08-26T16:22:32.579Z"
   },
   {
    "duration": 300,
    "start_time": "2023-08-26T16:22:50.629Z"
   },
   {
    "duration": 39,
    "start_time": "2023-08-26T16:22:50.931Z"
   },
   {
    "duration": 96,
    "start_time": "2023-08-26T16:22:51.054Z"
   },
   {
    "duration": 136,
    "start_time": "2023-08-26T16:22:51.152Z"
   },
   {
    "duration": 193,
    "start_time": "2023-08-26T16:22:51.291Z"
   },
   {
    "duration": 285,
    "start_time": "2023-08-26T16:22:51.486Z"
   },
   {
    "duration": 145,
    "start_time": "2023-08-26T16:22:51.772Z"
   },
   {
    "duration": 33,
    "start_time": "2023-08-26T16:22:51.919Z"
   },
   {
    "duration": 12,
    "start_time": "2023-08-26T16:22:51.953Z"
   },
   {
    "duration": 17628,
    "start_time": "2023-08-26T16:22:51.967Z"
   },
   {
    "duration": 511,
    "start_time": "2023-08-26T16:23:09.597Z"
   },
   {
    "duration": 46,
    "start_time": "2023-08-26T16:23:10.110Z"
   },
   {
    "duration": 109,
    "start_time": "2023-08-26T16:23:10.158Z"
   },
   {
    "duration": 102,
    "start_time": "2023-08-26T16:23:10.269Z"
   },
   {
    "duration": 178,
    "start_time": "2023-08-26T16:23:10.373Z"
   },
   {
    "duration": 94,
    "start_time": "2023-08-26T16:23:10.554Z"
   },
   {
    "duration": 21,
    "start_time": "2023-08-26T16:23:10.650Z"
   },
   {
    "duration": 11059,
    "start_time": "2023-08-26T16:23:10.672Z"
   },
   {
    "duration": 53,
    "start_time": "2023-08-26T16:23:21.732Z"
   },
   {
    "duration": 164,
    "start_time": "2023-08-26T16:23:21.786Z"
   },
   {
    "duration": 105,
    "start_time": "2023-08-26T16:23:21.952Z"
   },
   {
    "duration": 170,
    "start_time": "2023-08-26T16:23:22.058Z"
   },
   {
    "duration": 45,
    "start_time": "2023-08-26T16:23:22.229Z"
   },
   {
    "duration": 23099,
    "start_time": "2023-08-26T16:23:22.275Z"
   },
   {
    "duration": 85,
    "start_time": "2023-08-26T16:23:45.376Z"
   },
   {
    "duration": 91,
    "start_time": "2023-08-26T16:23:45.463Z"
   },
   {
    "duration": 95,
    "start_time": "2023-08-26T16:23:45.556Z"
   },
   {
    "duration": 10,
    "start_time": "2023-08-26T16:23:45.653Z"
   },
   {
    "duration": 85,
    "start_time": "2023-08-26T16:23:45.665Z"
   },
   {
    "duration": 4,
    "start_time": "2023-08-26T16:23:45.752Z"
   },
   {
    "duration": 5,
    "start_time": "2023-08-26T16:23:45.757Z"
   },
   {
    "duration": 5,
    "start_time": "2023-08-26T16:23:45.763Z"
   },
   {
    "duration": 5,
    "start_time": "2023-08-26T16:23:45.769Z"
   },
   {
    "duration": 20897,
    "start_time": "2023-08-26T16:23:45.775Z"
   },
   {
    "duration": 650,
    "start_time": "2023-08-26T16:24:06.674Z"
   },
   {
    "duration": 127,
    "start_time": "2023-08-26T16:24:07.326Z"
   },
   {
    "duration": 17408,
    "start_time": "2023-08-26T16:27:10.450Z"
   },
   {
    "duration": 653,
    "start_time": "2023-08-26T16:27:44.093Z"
   },
   {
    "duration": 2861,
    "start_time": "2023-08-31T17:28:18.094Z"
   },
   {
    "duration": 4,
    "start_time": "2023-08-31T17:28:20.957Z"
   },
   {
    "duration": 111,
    "start_time": "2023-08-31T17:28:20.963Z"
   },
   {
    "duration": 22,
    "start_time": "2023-08-31T17:28:21.076Z"
   },
   {
    "duration": 27,
    "start_time": "2023-08-31T17:28:21.101Z"
   },
   {
    "duration": 45,
    "start_time": "2023-08-31T17:28:21.130Z"
   },
   {
    "duration": 1243,
    "start_time": "2023-08-31T17:28:21.177Z"
   },
   {
    "duration": 1442,
    "start_time": "2023-08-31T17:28:22.422Z"
   },
   {
    "duration": 9,
    "start_time": "2023-08-31T17:28:23.866Z"
   },
   {
    "duration": 15,
    "start_time": "2023-08-31T17:28:23.877Z"
   },
   {
    "duration": 34,
    "start_time": "2023-08-31T17:28:23.894Z"
   },
   {
    "duration": 6,
    "start_time": "2023-08-31T17:28:23.930Z"
   },
   {
    "duration": 7,
    "start_time": "2023-08-31T17:28:23.938Z"
   },
   {
    "duration": 11,
    "start_time": "2023-08-31T17:28:23.948Z"
   },
   {
    "duration": 13,
    "start_time": "2023-08-31T17:28:23.961Z"
   },
   {
    "duration": 45,
    "start_time": "2023-08-31T17:28:23.975Z"
   },
   {
    "duration": 8,
    "start_time": "2023-08-31T17:28:24.022Z"
   },
   {
    "duration": 34,
    "start_time": "2023-08-31T17:28:24.032Z"
   },
   {
    "duration": 13,
    "start_time": "2023-08-31T17:28:24.068Z"
   },
   {
    "duration": 170,
    "start_time": "2023-08-31T17:28:24.083Z"
   },
   {
    "duration": 8,
    "start_time": "2023-08-31T17:28:24.255Z"
   },
   {
    "duration": 191,
    "start_time": "2023-08-31T17:28:24.265Z"
   },
   {
    "duration": 24,
    "start_time": "2023-08-31T17:28:24.457Z"
   },
   {
    "duration": 14,
    "start_time": "2023-08-31T17:28:24.482Z"
   },
   {
    "duration": 22614,
    "start_time": "2023-08-31T17:28:24.513Z"
   },
   {
    "duration": 392,
    "start_time": "2023-08-31T17:28:47.130Z"
   },
   {
    "duration": 97,
    "start_time": "2023-08-31T17:28:47.527Z"
   },
   {
    "duration": 103,
    "start_time": "2023-08-31T17:28:47.626Z"
   },
   {
    "duration": 170,
    "start_time": "2023-08-31T17:28:47.731Z"
   },
   {
    "duration": 226,
    "start_time": "2023-08-31T17:28:47.903Z"
   },
   {
    "duration": 321,
    "start_time": "2023-08-31T17:28:48.132Z"
   },
   {
    "duration": 193,
    "start_time": "2023-08-31T17:28:48.455Z"
   },
   {
    "duration": 24,
    "start_time": "2023-08-31T17:28:48.650Z"
   },
   {
    "duration": 51,
    "start_time": "2023-08-31T17:28:48.676Z"
   },
   {
    "duration": 22914,
    "start_time": "2023-08-31T17:28:48.729Z"
   },
   {
    "duration": 639,
    "start_time": "2023-08-31T17:29:11.647Z"
   },
   {
    "duration": 65,
    "start_time": "2023-08-31T17:29:12.288Z"
   },
   {
    "duration": 72,
    "start_time": "2023-08-31T17:29:12.355Z"
   },
   {
    "duration": 190,
    "start_time": "2023-08-31T17:29:12.429Z"
   },
   {
    "duration": 98,
    "start_time": "2023-08-31T17:29:12.626Z"
   },
   {
    "duration": 130,
    "start_time": "2023-08-31T17:29:12.730Z"
   },
   {
    "duration": 35,
    "start_time": "2023-08-31T17:29:12.862Z"
   },
   {
    "duration": 14192,
    "start_time": "2023-08-31T17:29:12.910Z"
   },
   {
    "duration": 85,
    "start_time": "2023-08-31T17:29:27.104Z"
   },
   {
    "duration": 148,
    "start_time": "2023-08-31T17:29:27.191Z"
   },
   {
    "duration": 91,
    "start_time": "2023-08-31T17:29:27.341Z"
   },
   {
    "duration": 299,
    "start_time": "2023-08-31T17:29:27.435Z"
   },
   {
    "duration": 40,
    "start_time": "2023-08-31T17:29:27.736Z"
   },
   {
    "duration": 30874,
    "start_time": "2023-08-31T17:29:27.778Z"
   },
   {
    "duration": 119,
    "start_time": "2023-08-31T17:29:58.654Z"
   },
   {
    "duration": 67,
    "start_time": "2023-08-31T17:29:58.776Z"
   },
   {
    "duration": 31,
    "start_time": "2023-08-31T17:29:58.912Z"
   },
   {
    "duration": 71,
    "start_time": "2023-08-31T17:29:58.946Z"
   },
   {
    "duration": 11,
    "start_time": "2023-08-31T17:29:59.020Z"
   },
   {
    "duration": 10,
    "start_time": "2023-08-31T17:29:59.033Z"
   },
   {
    "duration": 5,
    "start_time": "2023-08-31T17:29:59.046Z"
   },
   {
    "duration": 7,
    "start_time": "2023-08-31T17:29:59.052Z"
   },
   {
    "duration": 6,
    "start_time": "2023-08-31T17:29:59.061Z"
   },
   {
    "duration": 22553,
    "start_time": "2023-08-31T17:29:59.069Z"
   },
   {
    "duration": 825,
    "start_time": "2023-08-31T17:30:21.631Z"
   },
   {
    "duration": 184,
    "start_time": "2023-08-31T17:30:22.463Z"
   },
   {
    "duration": 902,
    "start_time": "2023-08-31T17:37:12.038Z"
   },
   {
    "duration": 199,
    "start_time": "2023-08-31T17:43:23.358Z"
   },
   {
    "duration": 111558,
    "start_time": "2023-08-31T17:45:07.315Z"
   },
   {
    "duration": 1433,
    "start_time": "2023-08-31T17:48:52.904Z"
   },
   {
    "duration": 836,
    "start_time": "2023-08-31T17:49:16.385Z"
   }
  ],
  "kernelspec": {
   "display_name": "Python 3 (ipykernel)",
   "language": "python",
   "name": "python3"
  },
  "language_info": {
   "codemirror_mode": {
    "name": "ipython",
    "version": 3
   },
   "file_extension": ".py",
   "mimetype": "text/x-python",
   "name": "python",
   "nbconvert_exporter": "python",
   "pygments_lexer": "ipython3",
   "version": "3.9.16"
  },
  "toc": {
   "base_numbering": 1,
   "nav_menu": {},
   "number_sections": true,
   "sideBar": true,
   "skip_h1_title": true,
   "title_cell": "Содержание",
   "title_sidebar": "Contents",
   "toc_cell": true,
   "toc_position": {},
   "toc_section_display": true,
   "toc_window_display": true
  }
 },
 "nbformat": 4,
 "nbformat_minor": 2
}
